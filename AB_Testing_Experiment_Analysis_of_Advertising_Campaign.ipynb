{
 "cells": [
  {
   "cell_type": "markdown",
   "metadata": {},
   "source": [
    "Author: Anjani K Shiwakoti\n",
    "    \n",
    "Date: June 12, 2019"
   ]
  },
  {
   "cell_type": "markdown",
   "metadata": {},
   "source": [
    "### Experiment Analysis of an Advertising Campaign (A/B Testing)\n",
    "\n",
    "#### Context\n",
    "\n",
    "##### A typical advertising company provides a platform where businesses can create advertising campaigns to increase awareness of their brands or to increase adoption of their products or services. For this exercise, imagine we have a single ad product where advertisers pay us each each time a user clicks on their ad.\n",
    "\n",
    "##### Each campaign has a budget (how much money the advertiser is willing to spend during a period of time). An advertiser never has to pay more than their budget, so if we were to spend more than the campaign’s budget, we would not be able to bill the advertiser for the additional spend. This is called overspending. In practice it’s difficult to avoid overspending because there is a delay between when we send ads to users and when they actually click on those ads. Since the ad company only charges advertisers for actual clicks on their ads, the charges can enter into the system after some (random) delay. For example, suppose a campaign has 10 dollars of budget remaining and the ad serving systems serves out 1000 ads, expecting 10 of them to generate a click resulting in 1 dollar of revenue each. If, however, 20 ads end up generating clicks, we would receive 20 dollars worth of events and not be able to bill the advertiser for 10 dollars of that. Ultimately, this implies the ad company has “wasted”  10 dollars worth of ad placements (say, 500, in this example) and therefore has incurred an cost.\n",
    "\n",
    "##### Suppose that lately, we have been noticing an increase in overspend on the platform. In an attempt to reduce the amount of overspend, we decided to create a new product where advertisers pay each time their ad appears in a user’s viewport rather than each time it is clickedon -- presumably these engagements would be received at a lower latency. In order to test the new product, we ran an A/B test. We randomly split the advertisers on the platform. Half of the advertisers remained on the old product and half received the new product. A week later we have some data and want to determine whether or not the experiment was a success.\n",
    "\n",
    "##### Data Schema:\n",
    "##### Use columns in data source CSV file.\n",
    "\n",
    "##### [graphic/spreadsheet] - (redacted)\n",
    "\n",
    "### Questions:\n",
    "##### There’s no specific structure or style that we expect from either output other than following yourusual best practices. Please ensure that any figures or tables you include are clearly labelled and all relevant constituent components are legible. The audience for your report is product manager who is familiar with data science and experimentation practices.\n",
    "\n",
    "##### 1. How many campaigns have overspend of greater than 1 percent of their budget in the control group? In the treatment group?\n",
    "\n",
    "##### 2. An executive is asking whether or not the new product was effective at reducing overspend, and whether or not it is more or less effective depending on the company size. Give a quick summary of how the treatment affected overspend.\n",
    "\n",
    "##### 3. A product manager on the team is concerned that certain advertisers in the treatment group are entering lower budgets because they are wary of the new product. Provide some evidence to support his suspicions, or show that any differences in budgets are likely due to random fluctuations.\n"
   ]
  },
  {
   "cell_type": "code",
   "execution_count": 3,
   "metadata": {},
   "outputs": [],
   "source": [
    "# import the Numpy, Pandas and Datascience modules\n",
    "import numpy as np\n",
    "import pandas as pd\n",
    "from datascience import *\n",
    "\n",
    "# import plotting libraries; supress warnings\n",
    "import matplotlib\n",
    "%matplotlib inline\n",
    "import matplotlib.pyplot as plt\n",
    "plt.style.use('fivethirtyeight')\n",
    "import warnings\n",
    "warnings.simplefilter('ignore', UserWarning)"
   ]
  },
  {
   "cell_type": "markdown",
   "metadata": {},
   "source": [
    "In order to describe this investigation in terms of an experiment, let's start by asking some key questions:\n",
    "\n",
    "What population are we studying? \n",
    "What is the control group? \n",
    "What is the treatment group? \n",
    "What outcome are we measuring? "
   ]
  },
  {
   "cell_type": "markdown",
   "metadata": {},
   "source": [
    "We are studying the entire group of advertisers. \n",
    "The control group A is the group that uses OLD product where advertisers pay each time their ad is clicked on. \n",
    "The treatment group B is the group that uses NEW product where advertisers pay each time their ad appears in a user’s viewport.\n",
    "We are measuring how the new product affected overspending, whether or not the treatment reduced overspending."
   ]
  },
  {
   "cell_type": "markdown",
   "metadata": {},
   "source": [
    "Extract the data from the source; understand the size, dimensions and structure of datatypes:"
   ]
  },
  {
   "cell_type": "code",
   "execution_count": 4,
   "metadata": {},
   "outputs": [
    {
     "data": {
      "text/html": [
       "<div>\n",
       "<style scoped>\n",
       "    .dataframe tbody tr th:only-of-type {\n",
       "        vertical-align: middle;\n",
       "    }\n",
       "\n",
       "    .dataframe tbody tr th {\n",
       "        vertical-align: top;\n",
       "    }\n",
       "\n",
       "    .dataframe thead th {\n",
       "        text-align: right;\n",
       "    }\n",
       "</style>\n",
       "<table border=\"1\" class=\"dataframe\">\n",
       "  <thead>\n",
       "    <tr style=\"text-align: right;\">\n",
       "      <th></th>\n",
       "      <th>treatment</th>\n",
       "      <th>company_size</th>\n",
       "      <th>campaign_spend</th>\n",
       "      <th>campaign_budget</th>\n",
       "    </tr>\n",
       "  </thead>\n",
       "  <tbody>\n",
       "    <tr>\n",
       "      <th>0</th>\n",
       "      <td>False</td>\n",
       "      <td>small</td>\n",
       "      <td>10.4477</td>\n",
       "      <td>3.9035</td>\n",
       "    </tr>\n",
       "    <tr>\n",
       "      <th>1</th>\n",
       "      <td>False</td>\n",
       "      <td>medium</td>\n",
       "      <td>3.7776</td>\n",
       "      <td>1.9872</td>\n",
       "    </tr>\n",
       "    <tr>\n",
       "      <th>2</th>\n",
       "      <td>False</td>\n",
       "      <td>medium</td>\n",
       "      <td>46.1880</td>\n",
       "      <td>55.4523</td>\n",
       "    </tr>\n",
       "    <tr>\n",
       "      <th>3</th>\n",
       "      <td>False</td>\n",
       "      <td>small</td>\n",
       "      <td>6.6271</td>\n",
       "      <td>6.5136</td>\n",
       "    </tr>\n",
       "    <tr>\n",
       "      <th>4</th>\n",
       "      <td>False</td>\n",
       "      <td>small</td>\n",
       "      <td>92.3405</td>\n",
       "      <td>83.1018</td>\n",
       "    </tr>\n",
       "  </tbody>\n",
       "</table>\n",
       "</div>"
      ],
      "text/plain": [
       "   treatment company_size  campaign_spend  campaign_budget\n",
       "0      False        small         10.4477           3.9035\n",
       "1      False       medium          3.7776           1.9872\n",
       "2      False       medium         46.1880          55.4523\n",
       "3      False        small          6.6271           6.5136\n",
       "4      False        small         92.3405          83.1018"
      ]
     },
     "execution_count": 4,
     "metadata": {},
     "output_type": "execute_result"
    }
   ],
   "source": [
    "file_location = r'C:\\Users\\AnjaniK\\Documents\\analytical_take_home_data_v2.xlsx'\n",
    "df = pd.read_excel(file_location)\n",
    "df.head()"
   ]
  },
  {
   "cell_type": "code",
   "execution_count": 5,
   "metadata": {},
   "outputs": [
    {
     "data": {
      "text/plain": [
       "(15474, 4)"
      ]
     },
     "execution_count": 5,
     "metadata": {},
     "output_type": "execute_result"
    }
   ],
   "source": [
    "df.shape"
   ]
  },
  {
   "cell_type": "code",
   "execution_count": 6,
   "metadata": {},
   "outputs": [
    {
     "name": "stdout",
     "output_type": "stream",
     "text": [
      "<class 'pandas.core.frame.DataFrame'>\n",
      "RangeIndex: 15474 entries, 0 to 15473\n",
      "Data columns (total 4 columns):\n",
      "treatment          15474 non-null bool\n",
      "company_size       15474 non-null object\n",
      "campaign_spend     15474 non-null float64\n",
      "campaign_budget    15474 non-null float64\n",
      "dtypes: bool(1), float64(2), object(1)\n",
      "memory usage: 377.9+ KB\n"
     ]
    }
   ],
   "source": [
    "df.info()"
   ]
  },
  {
   "cell_type": "markdown",
   "metadata": {},
   "source": [
    "## Exploratory Data Analysis \n",
    "<ul>\n",
    "    <li>Aggregation − computing a summary statistic </li>\n",
    "    <li>Transformation − perform some group-specific operation </li>\n",
    "    <li>Filtration − discarding the data with some condition </li>\n",
    "</ul>"
   ]
  },
  {
   "cell_type": "code",
   "execution_count": 7,
   "metadata": {},
   "outputs": [
    {
     "data": {
      "image/png": "[encoded data removed]",
      "text/plain": [
       "<Figure size 432x288 with 1 Axes>"
      ]
     },
     "metadata": {},
     "output_type": "display_data"
    }
   ],
   "source": [
    "x = pd.DataFrame({'spend':df.campaign_spend,'budget':df.campaign_budget})    \n",
    "x.plot()   \n",
    "plt.show() "
   ]
  },
  {
   "cell_type": "markdown",
   "metadata": {},
   "source": [
    "#### Describe the data distribution with summary statistics:"
   ]
  },
  {
   "cell_type": "code",
   "execution_count": 8,
   "metadata": {},
   "outputs": [
    {
     "data": {
      "text/html": [
       "<div>\n",
       "<style scoped>\n",
       "    .dataframe tbody tr th:only-of-type {\n",
       "        vertical-align: middle;\n",
       "    }\n",
       "\n",
       "    .dataframe tbody tr th {\n",
       "        vertical-align: top;\n",
       "    }\n",
       "\n",
       "    .dataframe thead th {\n",
       "        text-align: right;\n",
       "    }\n",
       "</style>\n",
       "<table border=\"1\" class=\"dataframe\">\n",
       "  <thead>\n",
       "    <tr style=\"text-align: right;\">\n",
       "      <th></th>\n",
       "      <th>campaign_spend</th>\n",
       "      <th>campaign_budget</th>\n",
       "    </tr>\n",
       "  </thead>\n",
       "  <tbody>\n",
       "    <tr>\n",
       "      <th>count</th>\n",
       "      <td>1.547400e+04</td>\n",
       "      <td>1.547400e+04</td>\n",
       "    </tr>\n",
       "    <tr>\n",
       "      <th>mean</th>\n",
       "      <td>4.903037e+03</td>\n",
       "      <td>5.772614e+03</td>\n",
       "    </tr>\n",
       "    <tr>\n",
       "      <th>std</th>\n",
       "      <td>6.516692e+04</td>\n",
       "      <td>9.903381e+04</td>\n",
       "    </tr>\n",
       "    <tr>\n",
       "      <th>min</th>\n",
       "      <td>3.595000e-01</td>\n",
       "      <td>9.190000e-02</td>\n",
       "    </tr>\n",
       "    <tr>\n",
       "      <th>25%</th>\n",
       "      <td>1.517812e+01</td>\n",
       "      <td>1.279290e+01</td>\n",
       "    </tr>\n",
       "    <tr>\n",
       "      <th>50%</th>\n",
       "      <td>5.009005e+01</td>\n",
       "      <td>4.881625e+01</td>\n",
       "    </tr>\n",
       "    <tr>\n",
       "      <th>75%</th>\n",
       "      <td>2.365468e+02</td>\n",
       "      <td>2.523155e+02</td>\n",
       "    </tr>\n",
       "    <tr>\n",
       "      <th>max</th>\n",
       "      <td>5.289217e+06</td>\n",
       "      <td>1.024289e+07</td>\n",
       "    </tr>\n",
       "  </tbody>\n",
       "</table>\n",
       "</div>"
      ],
      "text/plain": [
       "       campaign_spend  campaign_budget\n",
       "count    1.547400e+04     1.547400e+04\n",
       "mean     4.903037e+03     5.772614e+03\n",
       "std      6.516692e+04     9.903381e+04\n",
       "min      3.595000e-01     9.190000e-02\n",
       "25%      1.517812e+01     1.279290e+01\n",
       "50%      5.009005e+01     4.881625e+01\n",
       "75%      2.365468e+02     2.523155e+02\n",
       "max      5.289217e+06     1.024289e+07"
      ]
     },
     "execution_count": 8,
     "metadata": {},
     "output_type": "execute_result"
    }
   ],
   "source": [
    "df.describe()"
   ]
  },
  {
   "cell_type": "code",
   "execution_count": 9,
   "metadata": {},
   "outputs": [
    {
     "data": {
      "text/html": [
       "<div>\n",
       "<style scoped>\n",
       "    .dataframe tbody tr th:only-of-type {\n",
       "        vertical-align: middle;\n",
       "    }\n",
       "\n",
       "    .dataframe tbody tr th {\n",
       "        vertical-align: top;\n",
       "    }\n",
       "\n",
       "    .dataframe thead th {\n",
       "        text-align: right;\n",
       "    }\n",
       "</style>\n",
       "<table border=\"1\" class=\"dataframe\">\n",
       "  <thead>\n",
       "    <tr style=\"text-align: right;\">\n",
       "      <th></th>\n",
       "      <th></th>\n",
       "      <th>campaign_spend</th>\n",
       "      <th>campaign_budget</th>\n",
       "    </tr>\n",
       "    <tr>\n",
       "      <th>treatment</th>\n",
       "      <th>company_size</th>\n",
       "      <th></th>\n",
       "      <th></th>\n",
       "    </tr>\n",
       "  </thead>\n",
       "  <tbody>\n",
       "    <tr>\n",
       "      <th rowspan=\"3\" valign=\"top\">False</th>\n",
       "      <th>large</th>\n",
       "      <td>411.0601</td>\n",
       "      <td>404.3652</td>\n",
       "    </tr>\n",
       "    <tr>\n",
       "      <th>medium</th>\n",
       "      <td>3.7776</td>\n",
       "      <td>1.9872</td>\n",
       "    </tr>\n",
       "    <tr>\n",
       "      <th>small</th>\n",
       "      <td>10.4477</td>\n",
       "      <td>3.9035</td>\n",
       "    </tr>\n",
       "    <tr>\n",
       "      <th rowspan=\"3\" valign=\"top\">True</th>\n",
       "      <th>large</th>\n",
       "      <td>2001.2332</td>\n",
       "      <td>2913.6709</td>\n",
       "    </tr>\n",
       "    <tr>\n",
       "      <th>medium</th>\n",
       "      <td>34.0315</td>\n",
       "      <td>33.7369</td>\n",
       "    </tr>\n",
       "    <tr>\n",
       "      <th>small</th>\n",
       "      <td>84.6344</td>\n",
       "      <td>82.7636</td>\n",
       "    </tr>\n",
       "  </tbody>\n",
       "</table>\n",
       "</div>"
      ],
      "text/plain": [
       "                        campaign_spend  campaign_budget\n",
       "treatment company_size                                 \n",
       "False     large               411.0601         404.3652\n",
       "          medium                3.7776           1.9872\n",
       "          small                10.4477           3.9035\n",
       "True      large              2001.2332        2913.6709\n",
       "          medium               34.0315          33.7369\n",
       "          small                84.6344          82.7636"
      ]
     },
     "execution_count": 9,
     "metadata": {},
     "output_type": "execute_result"
    }
   ],
   "source": [
    "company_group = df.groupby(['treatment','company_size'])\n",
    "company_group.first()"
   ]
  },
  {
   "cell_type": "markdown",
   "metadata": {},
   "source": [
    "#### Further analyze data with aggregates:"
   ]
  },
  {
   "cell_type": "code",
   "execution_count": 10,
   "metadata": {},
   "outputs": [
    {
     "data": {
      "text/html": [
       "<div>\n",
       "<style scoped>\n",
       "    .dataframe tbody tr th:only-of-type {\n",
       "        vertical-align: middle;\n",
       "    }\n",
       "\n",
       "    .dataframe tbody tr th {\n",
       "        vertical-align: top;\n",
       "    }\n",
       "\n",
       "    .dataframe thead tr th {\n",
       "        text-align: left;\n",
       "    }\n",
       "\n",
       "    .dataframe thead tr:last-of-type th {\n",
       "        text-align: right;\n",
       "    }\n",
       "</style>\n",
       "<table border=\"1\" class=\"dataframe\">\n",
       "  <thead>\n",
       "    <tr>\n",
       "      <th></th>\n",
       "      <th colspan=\"4\" halign=\"left\">company_size</th>\n",
       "      <th colspan=\"4\" halign=\"left\">campaign_spend</th>\n",
       "      <th colspan=\"4\" halign=\"left\">campaign_budget</th>\n",
       "    </tr>\n",
       "    <tr>\n",
       "      <th></th>\n",
       "      <th>min</th>\n",
       "      <th>max</th>\n",
       "      <th>count</th>\n",
       "      <th>nunique</th>\n",
       "      <th>min</th>\n",
       "      <th>max</th>\n",
       "      <th>count</th>\n",
       "      <th>nunique</th>\n",
       "      <th>min</th>\n",
       "      <th>max</th>\n",
       "      <th>count</th>\n",
       "      <th>nunique</th>\n",
       "    </tr>\n",
       "    <tr>\n",
       "      <th>treatment</th>\n",
       "      <th></th>\n",
       "      <th></th>\n",
       "      <th></th>\n",
       "      <th></th>\n",
       "      <th></th>\n",
       "      <th></th>\n",
       "      <th></th>\n",
       "      <th></th>\n",
       "      <th></th>\n",
       "      <th></th>\n",
       "      <th></th>\n",
       "      <th></th>\n",
       "    </tr>\n",
       "  </thead>\n",
       "  <tbody>\n",
       "    <tr>\n",
       "      <th>False</th>\n",
       "      <td>large</td>\n",
       "      <td>small</td>\n",
       "      <td>7733</td>\n",
       "      <td>3</td>\n",
       "      <td>1.0863</td>\n",
       "      <td>1.200002e+06</td>\n",
       "      <td>7733</td>\n",
       "      <td>7716</td>\n",
       "      <td>0.3063</td>\n",
       "      <td>2.119520e+06</td>\n",
       "      <td>7733</td>\n",
       "      <td>7710</td>\n",
       "    </tr>\n",
       "    <tr>\n",
       "      <th>True</th>\n",
       "      <td>large</td>\n",
       "      <td>small</td>\n",
       "      <td>7741</td>\n",
       "      <td>3</td>\n",
       "      <td>0.3595</td>\n",
       "      <td>5.289217e+06</td>\n",
       "      <td>7741</td>\n",
       "      <td>7717</td>\n",
       "      <td>0.0919</td>\n",
       "      <td>1.024289e+07</td>\n",
       "      <td>7741</td>\n",
       "      <td>7711</td>\n",
       "    </tr>\n",
       "  </tbody>\n",
       "</table>\n",
       "</div>"
      ],
      "text/plain": [
       "          company_size                      campaign_spend                \\\n",
       "                   min    max count nunique            min           max   \n",
       "treatment                                                                  \n",
       "False            large  small  7733       3         1.0863  1.200002e+06   \n",
       "True             large  small  7741       3         0.3595  5.289217e+06   \n",
       "\n",
       "                        campaign_budget                              \n",
       "          count nunique             min           max count nunique  \n",
       "treatment                                                            \n",
       "False      7733    7716          0.3063  2.119520e+06  7733    7710  \n",
       "True       7741    7717          0.0919  1.024289e+07  7741    7711  "
      ]
     },
     "execution_count": 10,
     "metadata": {},
     "output_type": "execute_result"
    }
   ],
   "source": [
    "aggregates = df.groupby(['treatment']).agg(['min','max','count','nunique'])\n",
    "aggregates"
   ]
  },
  {
   "cell_type": "markdown",
   "metadata": {},
   "source": [
    "#### Prepare the data by cleaning: filling in, replacing or getting rid of any null/empty values, outliers, transforming any categorical values into their numerical representaions, normalizing indices/values, identifying and selecting key features "
   ]
  },
  {
   "cell_type": "code",
   "execution_count": 11,
   "metadata": {},
   "outputs": [
    {
     "data": {
      "text/plain": [
       "treatment          0\n",
       "company_size       0\n",
       "campaign_spend     0\n",
       "campaign_budget    0\n",
       "dtype: int64"
      ]
     },
     "execution_count": 11,
     "metadata": {},
     "output_type": "execute_result"
    }
   ],
   "source": [
    "df.isnull().sum()"
   ]
  },
  {
   "cell_type": "code",
   "execution_count": null,
   "metadata": {},
   "outputs": [],
   "source": []
  },
  {
   "cell_type": "markdown",
   "metadata": {},
   "source": [
    "### Preparing for Answers:"
   ]
  },
  {
   "cell_type": "markdown",
   "metadata": {},
   "source": [
    "#### 1. How many campaigns have overspend of greater than 1% of their budget in the control group? In the treatment group?\n",
    "\n"
   ]
  },
  {
   "cell_type": "code",
   "execution_count": 12,
   "metadata": {},
   "outputs": [
    {
     "data": {
      "text/html": [
       "<div>\n",
       "<style scoped>\n",
       "    .dataframe tbody tr th:only-of-type {\n",
       "        vertical-align: middle;\n",
       "    }\n",
       "\n",
       "    .dataframe tbody tr th {\n",
       "        vertical-align: top;\n",
       "    }\n",
       "\n",
       "    .dataframe thead th {\n",
       "        text-align: right;\n",
       "    }\n",
       "</style>\n",
       "<table border=\"1\" class=\"dataframe\">\n",
       "  <thead>\n",
       "    <tr style=\"text-align: right;\">\n",
       "      <th></th>\n",
       "      <th>treatment</th>\n",
       "      <th>company_size</th>\n",
       "      <th>campaign_spend</th>\n",
       "      <th>campaign_budget</th>\n",
       "      <th>spending_diffs</th>\n",
       "      <th>spending_diffs_percentage</th>\n",
       "    </tr>\n",
       "  </thead>\n",
       "  <tbody>\n",
       "    <tr>\n",
       "      <th>0</th>\n",
       "      <td>False</td>\n",
       "      <td>small</td>\n",
       "      <td>10.4477</td>\n",
       "      <td>3.9035</td>\n",
       "      <td>6.5442</td>\n",
       "      <td>167.649545</td>\n",
       "    </tr>\n",
       "    <tr>\n",
       "      <th>1</th>\n",
       "      <td>False</td>\n",
       "      <td>medium</td>\n",
       "      <td>3.7776</td>\n",
       "      <td>1.9872</td>\n",
       "      <td>1.7904</td>\n",
       "      <td>90.096618</td>\n",
       "    </tr>\n",
       "    <tr>\n",
       "      <th>2</th>\n",
       "      <td>False</td>\n",
       "      <td>medium</td>\n",
       "      <td>46.1880</td>\n",
       "      <td>55.4523</td>\n",
       "      <td>-9.2643</td>\n",
       "      <td>-16.706791</td>\n",
       "    </tr>\n",
       "    <tr>\n",
       "      <th>3</th>\n",
       "      <td>False</td>\n",
       "      <td>small</td>\n",
       "      <td>6.6271</td>\n",
       "      <td>6.5136</td>\n",
       "      <td>0.1135</td>\n",
       "      <td>1.742508</td>\n",
       "    </tr>\n",
       "    <tr>\n",
       "      <th>4</th>\n",
       "      <td>False</td>\n",
       "      <td>small</td>\n",
       "      <td>92.3405</td>\n",
       "      <td>83.1018</td>\n",
       "      <td>9.2387</td>\n",
       "      <td>11.117328</td>\n",
       "    </tr>\n",
       "  </tbody>\n",
       "</table>\n",
       "</div>"
      ],
      "text/plain": [
       "   treatment company_size  campaign_spend  campaign_budget  spending_diffs  \\\n",
       "0      False        small         10.4477           3.9035          6.5442   \n",
       "1      False       medium          3.7776           1.9872          1.7904   \n",
       "2      False       medium         46.1880          55.4523         -9.2643   \n",
       "3      False        small          6.6271           6.5136          0.1135   \n",
       "4      False        small         92.3405          83.1018          9.2387   \n",
       "\n",
       "   spending_diffs_percentage  \n",
       "0                 167.649545  \n",
       "1                  90.096618  \n",
       "2                 -16.706791  \n",
       "3                   1.742508  \n",
       "4                  11.117328  "
      ]
     },
     "execution_count": 12,
     "metadata": {},
     "output_type": "execute_result"
    }
   ],
   "source": [
    "# positive difference denotes overspending\n",
    "spending_diffs = (df.campaign_spend - df.campaign_budget)\n",
    "spending_diffs_percentage = ((df.campaign_spend - df.campaign_budget)/df.campaign_budget) * 100\n",
    "# spending_diffs\n",
    "#spending_diffs_percentage\n",
    "\n",
    "df['spending_diffs'] = spending_diffs\n",
    "df['spending_diffs_percentage'] = spending_diffs_percentage\n",
    "df.head()"
   ]
  },
  {
   "cell_type": "code",
   "execution_count": 13,
   "metadata": {},
   "outputs": [
    {
     "data": {
      "text/plain": [
       "(15474, 6)"
      ]
     },
     "execution_count": 13,
     "metadata": {},
     "output_type": "execute_result"
    }
   ],
   "source": [
    "df.shape"
   ]
  },
  {
   "cell_type": "markdown",
   "metadata": {},
   "source": [
    "### Plotting the Overspends against Campaign Spend and Campaign Budget"
   ]
  },
  {
   "cell_type": "code",
   "execution_count": 53,
   "metadata": {},
   "outputs": [
    {
     "data": {
      "text/plain": [
       "<matplotlib.axes._subplots.AxesSubplot at 0x19d89529a20>"
      ]
     },
     "execution_count": 53,
     "metadata": {},
     "output_type": "execute_result"
    },
    {
     "data": {
      "text/plain": [
       "<Figure size 432x288 with 0 Axes>"
      ]
     },
     "metadata": {},
     "output_type": "display_data"
    },
    {
     "data": {
      "image/png": "[encoded data removed]",
      "text/plain": [
       "<Figure size 432x288 with 1 Axes>"
      ]
     },
     "metadata": {},
     "output_type": "display_data"
    }
   ],
   "source": [
    "df3 = df[['campaign_spend','campaign_budget','spending_diffs']]\n",
    "z = df3.cumsum()\n",
    "plt.figure();\n",
    "z.plot()"
   ]
  },
  {
   "cell_type": "code",
   "execution_count": 68,
   "metadata": {},
   "outputs": [
    {
     "name": "stdout",
     "output_type": "stream",
     "text": [
      "Campaigns having overspends greater than 1% of their budget are as follows: \n",
      "Control Group: 5716 \n",
      "Treatment Group: 5180 \n"
     ]
    }
   ],
   "source": [
    "# count overspends on all campaigns having more than 1% of their budget\n",
    "df01 = df[df['spending_diffs_percentage'] > 1.0]\n",
    "#df01.head(10)\n",
    "#overspend_count = df01.shape[0]\n",
    "\n",
    "# group them by treatment and control groups\n",
    "df_control_grp = df01[df01['treatment']==False]\n",
    "df_treatment_grp = df01[df01['treatment']==True]\n",
    "\n",
    "print(\"Campaigns having overspends greater than 1% of their budget are as follows: \")\n",
    "print(\"Control Group: {} \".format(df_control_grp.shape[0]))\n",
    "print(\"Treatment Group: {} \".format(df_treatment_grp.shape[0]))\n"
   ]
  },
  {
   "cell_type": "markdown",
   "metadata": {},
   "source": [
    "#### 2. An executive is asking whether or not the new product was effective at reducing overspend, and whether or not it is more or less effective depending on the company size. Give a quick summary of how the treatment affected overspend.\n",
    "\n",
    "We know from our intial calculations, control_group_count = 7733 and treatment_group_count = 7741.\n",
    "We can deduce that, (5716/7733) => 73.92% of those using old product saw overspending in control group, as opposed to, 5180/7741 => 66.91% of those using NEW product in treatment group. Therefore, we can say that, there's a slight (7%) reduction in overspend in Group B's favor."
   ]
  },
  {
   "cell_type": "code",
   "execution_count": 69,
   "metadata": {},
   "outputs": [
    {
     "name": "stdout",
     "output_type": "stream",
     "text": [
      "Group A average overspend = 420.3854\n",
      "Group B average overspend = 548.4205\n",
      "Overspend population average = 481.2537\n"
     ]
    }
   ],
   "source": [
    "# The average overspend of Group A (Control Group): \n",
    "group_A_avg = np.mean(df_control_grp['spending_diffs'])\n",
    "print (\"Group A average overspend = {}\".format(round(group_A_avg,4)))\n",
    "\n",
    "#The average overspend of Group B (Treatment Group): \n",
    "group_B_avg = np.mean(df_treatment_grp['spending_diffs'])\n",
    "print (\"Group B average overspend = {}\".format(round(group_B_avg,4)))\n",
    "\n",
    "observed_mean = np.mean(df01.spending_diffs)\n",
    "print(\"Overspend population average = {}\".format(round(observed_mean,4)))\n"
   ]
  },
  {
   "cell_type": "markdown",
   "metadata": {},
   "source": [
    "Group A's average overspend is slightly lower than that of overall population average whereas Group B's average is significantly higer than the average. This is counterintuitive to the above finding that even though there are fewer number in Group B, that group's overspend is higer than Group A's. The new product may not be effective at reducing spending.\n",
    "\n",
    "But these measures by no means are sufficient evidence to conclude that the treatment definitely reduced overspending or otherwise. More tests need to be performed and more statistically significant evidence is needed."
   ]
  },
  {
   "cell_type": "markdown",
   "metadata": {},
   "source": [
    "#### 3. A product manager on the team is concerned that certain advertisers in the treatment group are entering lower budgets because they are wary of the new product. Provide some evidence to support his suspicions, or show that any differences in budgets are likely due to random fluctuations.\n"
   ]
  },
  {
   "cell_type": "markdown",
   "metadata": {},
   "source": [
    "## Causal Inference & Hypothesis Testing\n",
    "\n",
    "Let's run some randomized controlled experiments under the null hypothesis in order to determine whether the introduction of the new product is causing certain advertisers in the treatment group to enter lower budgets or the differences in the budgets are purely due to chance."
   ]
  },
  {
   "cell_type": "markdown",
   "metadata": {},
   "source": [
    "The hypotheses to test are:\n",
    "\n",
    "Null Hypothesis(H₀): “the average overspend is the same for both OLD and NEW (A and B) versions of products”\n",
    "\n",
    "Alternate Hypothesis(H₁): “the average overspend is lower for the NEW product (version B)”\n",
    "\n",
    "The null hypothesis states that the difference in probabilities between the two groups is zero. Therefore, the mean for this normal distribution will be at zero. The other property we will need for the normal distribution is the standard deviation or the variance, which is the standard deviation squared. Variance in turn is dependent on the probabilities of both the groups. This means that the null hypothesis and alternate hypothesis will have the same variance which will be the sum of the variances for the control group and the treatment group."
   ]
  },
  {
   "cell_type": "markdown",
   "metadata": {},
   "source": [
    "### p-value (p) and level of significance(α)\n",
    "\n",
    "The higher the p-value, the more likely that the null hypothesis holds true, i.e., we cannot reject it.\n",
    "The level of significance is a threshold that we set in order to decide past what point to reject the null hypothesis. Best practice is, α = 0.05, that is 5% error rate.\n",
    "\n",
    "We reject the null hypothesis if:\n",
    "p <= α\n",
    "\n",
    "We cannot reject the null hypothesis if:\n",
    "p > α"
   ]
  },
  {
   "cell_type": "code",
   "execution_count": 70,
   "metadata": {},
   "outputs": [],
   "source": [
    "# run tests using bootstrap sampling using a subset of the original data\n",
    "# find the p-values to determine \n",
    "\n",
    "def boostrap_sample(sample_df):\n",
    "\n",
    "    statistic = []\n",
    "    group_A_means = []\n",
    "    group_B_means = []\n",
    "\n",
    "    for _ in range (10000):\n",
    "        bootstrap = sample_df.sample(500, replace=True)\n",
    "        group_A_mean = bootstrap[bootstrap.treatment == False].spending_diffs.mean()\n",
    "        group_B_mean = bootstrap[bootstrap.treatment == True].spending_diffs.mean()\n",
    "\n",
    "        group_A_means.append(group_A_mean)\n",
    "        group_B_means.append(group_B_mean)\n",
    "        statistic.append(group_A_mean - group_B_mean)\n",
    "    \n",
    "    return statistic, group_A_means, group_B_means\n",
    "\n",
    "\n",
    "def simulate_under_null(statistic):\n",
    "    \n",
    "    sample_mean = np.random.normal(0, np.std(statistic), 10000)\n",
    "    \n",
    "    return sample_mean\n"
   ]
  },
  {
   "cell_type": "code",
   "execution_count": 71,
   "metadata": {},
   "outputs": [],
   "source": [
    "sample_df = df01.sample(500)\n",
    "statistic, group_A_means, group_B_means = boostrap_sample(sample_df)\n",
    "sample_mean = simulate_under_null(statistic)\n"
   ]
  },
  {
   "cell_type": "markdown",
   "metadata": {},
   "source": [
    "### Plotting"
   ]
  },
  {
   "cell_type": "code",
   "execution_count": 72,
   "metadata": {},
   "outputs": [
    {
     "data": {
      "text/plain": [
       "<matplotlib.legend.Legend at 0x19d89799978>"
      ]
     },
     "execution_count": 72,
     "metadata": {},
     "output_type": "execute_result"
    },
    {
     "data": {
      "image/png": "[encoded data removed]",
      "text/plain": [
       "<Figure size 432x288 with 1 Axes>"
      ]
     },
     "metadata": {},
     "output_type": "display_data"
    }
   ],
   "source": [
    "plt.hist(group_A_means, alpha=0.5, label=\"Group A\");\n",
    "plt.hist(group_B_means, alpha=0.5, label=\"Group B\");\n",
    "plt.scatter(observed_mean, 0, marker='o', color='red', s=50);\n",
    "\n",
    "plt.legend()"
   ]
  },
  {
   "cell_type": "code",
   "execution_count": 73,
   "metadata": {},
   "outputs": [
    {
     "data": {
      "image/png": "[encoded data removed]",
      "text/plain": [
       "<Figure size 432x288 with 1 Axes>"
      ]
     },
     "metadata": {},
     "output_type": "display_data"
    }
   ],
   "source": [
    "# empirical distribution from sample mean\n",
    "plt.hist(statistic)\n",
    "plt.scatter(observed_mean, 0, marker='o', color='red', s=50);\n",
    "plt.show()"
   ]
  },
  {
   "cell_type": "markdown",
   "metadata": {},
   "source": [
    "### Caluculating the p-value"
   ]
  },
  {
   "cell_type": "code",
   "execution_count": 74,
   "metadata": {},
   "outputs": [
    {
     "data": {
      "text/plain": [
       "0.1082"
      ]
     },
     "execution_count": 74,
     "metadata": {},
     "output_type": "execute_result"
    }
   ],
   "source": [
    "p_value = (sample_mean > observed_mean).mean()\n",
    "p_value"
   ]
  },
  {
   "cell_type": "code",
   "execution_count": 75,
   "metadata": {},
   "outputs": [
    {
     "name": "stdout",
     "output_type": "stream",
     "text": [
      "Reject Null Hypothesis?  False\n"
     ]
    }
   ],
   "source": [
    "alpha = 0.05\n",
    "if p_value <= alpha:\n",
    "    reject_null = True  \n",
    "else:\n",
    "    reject_null = False\n",
    "\n",
    "print (\"Reject Null Hypothesis? \", reject_null)"
   ]
  },
  {
   "cell_type": "markdown",
   "metadata": {},
   "source": [
    "The p_value of around 0.30 is significantly higher than the alpha value of 0.05 and well beyond the 5% error rate cutoff. Therefore, we conclude that we cannot reject the null hypothesis. "
   ]
  },
  {
   "cell_type": "markdown",
   "metadata": {},
   "source": [
    "Conclusion: The average overspend is the same for both OLD and NEW (A and B) versions of products. We cannot establish any strong correlation or association between treatment and overspending to confidently say that the treatment caused reduction in overspending."
   ]
  },
  {
   "cell_type": "code",
   "execution_count": null,
   "metadata": {},
   "outputs": [],
   "source": []
  }
 ],
 "metadata": {
  "kernelspec": {
   "display_name": "Python 3",
   "language": "python",
   "name": "python3"
  },
  "language_info": {
   "codemirror_mode": {
    "name": "ipython",
    "version": 3
   },
   "file_extension": ".py",
   "mimetype": "text/x-python",
   "name": "python",
   "nbconvert_exporter": "python",
   "pygments_lexer": "ipython3",
   "version": "3.7.6"
  }
 },
 "nbformat": 4,
 "nbformat_minor": 2
}
