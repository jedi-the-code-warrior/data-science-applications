{
 "cells": [
  {
   "cell_type": "markdown",
   "metadata": {},
   "source": [
    "## Game of Craps Analysis"
   ]
  },
  {
   "cell_type": "markdown",
   "metadata": {},
   "source": [
    "Author: Anjani K Shiwakoti\n",
    "\n",
    "Date: June 11, 2019"
   ]
  },
  {
   "cell_type": "markdown",
   "metadata": {},
   "source": [
    "### Part 1: Probability"
   ]
  },
  {
   "cell_type": "markdown",
   "metadata": {},
   "source": [
    "Q1: Craps\n",
    "In the casino game of craps, the fundamental bet is the pass line bet. The bettor (called the\n",
    "“shooter”) gets to roll a pair of standard 6-sided dice, and there are then two ways to win:\n",
    "● Win on the “come-out roll” (i.e. the initial dice roll) by rolling a 7 or 11\n",
    "○ If the shooter rolls a 2, 3 or 12 on the come-out roll then the bet is lost (this is\n",
    "called “crapping out”), and the game is over\n",
    "● If the shooter rolls a 4, 5, 6, 8, 9 or 10 on the come-out roll, they get to the pass-line.\n",
    "This number then becomes the shooter’s “point”. Once at the pass line, the shooter can\n",
    "roll as many times as it takes to re-roll the point, so long as they don’t roll a 7 first. So at\n",
    "the pass line:\n",
    "○ If the point is rolled before a 7, the shooter wins the bet, and the game is over\n",
    "○ If a 7 is rolled before the point, the bet is lost, and the game is over"
   ]
  },
  {
   "cell_type": "markdown",
   "metadata": {},
   "source": [
    "#### 1. What's the probability of winning on the come-out roll?\n",
    "\n",
    "    Every roll of 2 six-sided dice has a total of 6x6 = 36 outcomes.\n",
    "\n",
    "    In the come-out (initial) roll, there are three possible outcomes:\n",
    "\n",
    "    1. Win (Natural): rolling a 7 or an 11.\n",
    "    2. Loss (Crap): rolling 2,3, or 12\n",
    "    3. Point: rolling 4,5,6,8,9,10\n",
    "\n",
    "    Probability (roll any number) = Chances For / Total Chances\n",
    "\n",
    "    To roll a 7: There are count((1+6), (2+5), (3+4), (4+3), (5+2), (6+1)) = 6 ways \n",
    "    P(7) = 6/36 = 1/6\n",
    "\n",
    "    To roll an 11: There are count((5+6), (6+5)) = 2 ways \n",
    "    P(11) = 2/36 = 1/18\n",
    "\n",
    "    P(Win) = P(7) + P(11) = 6/36 + 2/36 = 8/36 = 2/9 = 0.2222\n",
    "    \n",
    "\n",
    "#### 2. What's the probability of crapping out?\n",
    "\n",
    "    To roll a 2: there are count((1,1)) = 1 way\n",
    "    P(2) = 1/36\n",
    "\n",
    "    To roll a 3: There are count((1,2),(2,1)) = 2 ways\n",
    "    P(3) = 2/36 = 1/18\n",
    "\n",
    "    To roll a 12: There are count((6+6)) = 1 way\n",
    "    P(12) = 1/36 \n",
    "\n",
    "    P(Crap) = P(2) + P(3) + P(12) = 1/36 + 2/36 + 1/36 = 4/36 = 0.1111\n",
    "\n",
    "#### 3. What's the probability of making it to the pass line with each possible point roll?\n",
    "    Since there are only 3 possibilities (Win, Crap, Point), the probability of making it to the pass line is:\n",
    "    P(Point) = 1 - P(Win) - P(Crap) = 1 - 0.2222 - 0.1111 = 0.6667\n",
    "\n",
    "#### 4. Suppose you make it to the pass line with point X, which has a roll probability of p. What's the chance of winning at the pass line?\n",
    "    We know that in order to win at the pass line with point X, our next roll must be equal to X and must appear before 7.\n",
    "    Given that the roll probability P(X) = p, the probability of winning at the pass line, therefore, is given by:\n",
    "\n",
    "    P(Win | P(X) = p) = p/(P(7) + p), and since we know that P(7) = 1/6, we can re-write:\n",
    "    P(Win | P(X) = p) = p/(1/6 + p)\n",
    "\n",
    "#### 5. What's the expected return on a dollar bet on a come-out roll (assuming that winning in any phase pays 1:1 odds)?\n",
    "    Bet Amount (M) = $1, Odds of winning = 1:1\n",
    "    Probability of winning on come-out roll (P(Win) = 2/9 = 0.2222\n",
    "    Expected Return (E(M) = M x (1 + P(Win)) = $1 x (1 + 2/9) = $1.2222\n",
    "\n",
    "\n",
    "\n",
    "\n",
    "\n",
    "\n"
   ]
  },
  {
   "cell_type": "markdown",
   "metadata": {},
   "source": [
    "Now suppose that you notice something odd - one of the two dice isn’t balanced that well, and\n",
    "always comes up in the range 2-5 (with equal probability) but never 1 or 6.\n",
    "Assuming that you’ve estimated the dice odds correctly, then:\n",
    "    \n",
    "#### 1. What’s the probability of winning before the pass line?\n",
    "    Since, one of the dice is fair and the other one is unbalanced (never 1 or 6), there are only 4 possibilities (2,3,4,5) for the unfair die, which is equivalent to a 4-sided die. So, there are a total of 6 X 4 = 24 outcomes.\n",
    "\n",
    "    Due to the constraint (1 and 6 removed from one die), there are only 4/24 ways to roll a 7, and there are only 1/24 ways to roll an 11.\n",
    "    So, the probability of winning before the pass line is given by:\n",
    "    P(Win) = P(7) + P(11) = 4/24 + 1/24 = 5/24 \n",
    "\n",
    "#### 2. What’s the probability of crapping out?\n",
    "    Due to the constraint, it is not possible to roll a 2 or a 12. So the only possibility of crapping out is by rolling a 3. There is only one way to roll a 3, P(3) = 1/24. So, the prbability of crapping out, P(Crap) = 1/24.\n",
    "\n",
    "#### 3. What’s the probability of making it to the pass line with each possible point roll?\n",
    "    P(Point) = 1 - P(Win) - P(Crap) = 1 - 4/24 - 1/24 = 19/24\n",
    "\n",
    "#### 4. What’s the expected return on a dollar bet on a come out roll (assuming that winning in any phase pays 1:1 odds)?\n",
    "    M = $1 , Odds = 1:1, P(Win) = 5/24\n",
    "    E(M) = M x ( 1 + P(Win)) = $1 x (1 + 5/24) = 29/24 = $1.2083\n"
   ]
  },
  {
   "cell_type": "code",
   "execution_count": null,
   "metadata": {},
   "outputs": [],
   "source": []
  }
 ],
 "metadata": {
  "kernelspec": {
   "display_name": "Python 3",
   "language": "python",
   "name": "python3"
  },
  "language_info": {
   "codemirror_mode": {
    "name": "ipython",
    "version": 3
   },
   "file_extension": ".py",
   "mimetype": "text/x-python",
   "name": "python",
   "nbconvert_exporter": "python",
   "pygments_lexer": "ipython3",
   "version": "3.7.6"
  }
 },
 "nbformat": 4,
 "nbformat_minor": 2
}
