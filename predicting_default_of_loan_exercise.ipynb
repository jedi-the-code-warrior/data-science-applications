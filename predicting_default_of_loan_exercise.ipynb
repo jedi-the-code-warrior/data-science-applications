{
 "cells": [
  {
   "cell_type": "markdown",
   "metadata": {
    "nbgrader": {
     "grade": false,
     "locked": true,
     "solution": false
    }
   },
   "source": [
    "# Predicting Default of Loan Using Random Forest Classifiers\n",
    "-------  \n",
    "\n",
    "Published: July 13, 2020 \n",
    "\n",
    "Author: Anjani K Shiwakoti\n",
    "\n",
    "\n",
    "## Project Overview\n",
    "-------\n",
    "Random Forest is a supervised learning algorithm. Random Forest is simply a collection of Decision Trees (with some exceptions). Random forest builds multiple decision trees and combines them together to give a more accurate and stable prediction of a data model. One of the big problems in machine learning is overfitting, but as long as there are enough trees in the forest, the random forest classifier can almost always avoid overfitting. It does so by generating additional randomness to each subset of the widening or deepening number of trees. Instead of searching for the most important feature while splitting a node, it searches for the best feature among a random subset of features. This results in a wide diversity that generally results in a better model. One major advantage of random forest is that it can be used for both classification and regression tasks that form the majority of current machine learning systems. The main limitation of Random Forest is that a large number of trees can make the algorithm rather slow and ineffective for real-time predictions.\n",
    "\n",
    "**Objective**:  In this project, I will implement a variety of decision tree based classifiers to attempt prediction of whether or not a customer will pay back his/her loan. \n",
    "\n",
    "Steps:  \n",
    "- Manipulating DataFrames  \n",
    "- Visualizing data  \n",
    "- Calculation of impurity measures  \n",
    "- Using Scikit-Learn's tree and forest models  \n",
    "- Evaluate the effects of hyperparameter tuning  \n",
    "\n",
    "\n",
    "**Motivation**: A model is as good as the data it is fed into. Decision Trees and Forests offer easy to understand yet fairly advanced models with a variety of hyper-parameters to increase or decrease complexity to tune between bias and variance\n",
    "\n",
    "**Problem**:  \n",
    "Given a number of personal variables, (sex, education, marriage status, age); and recent payment history, attempt to predict whether or not a customer will default in the next month.   \n",
    "\n",
    "**Data Source**: Loan_Exercise.xlsx (mock sample)\n",
    "\n",
    "\n",
    "---\n",
    "\n",
    "Data Set Information:\n",
    "\n",
    "\n",
    "Attribute Information:\n",
    "\n",
    "id: unique identifier\n",
    "\n",
    "Loan_status: if the loaner paid back in full 'Fully Paid' or partially 'Charged Off'\n",
    "\n",
    "Total_received_principal: the money the loaner paid back \n",
    "\n",
    "Others might be self explanatory\t\t\n",
    "\t\t\n",
    "---"
   ]
  },
  {
   "cell_type": "markdown",
   "metadata": {
    "nbgrader": {
     "grade": false,
     "locked": true,
     "solution": false
    }
   },
   "source": [
    "<a id=\"part1\"></a>\n",
    "Acquire, Explore, and Pre-process Data\n",
    "----  \n",
    "\n",
    "#### Import / Read in Data"
   ]
  },
  {
   "cell_type": "code",
   "execution_count": 229,
   "metadata": {
    "nbgrader": {
     "grade": false,
     "locked": true,
     "solution": false
    }
   },
   "outputs": [],
   "source": [
    "# Import necessary packages\n",
    "import pandas as pd\n",
    "import numpy as np\n",
    "import matplotlib.pyplot as plt\n",
    "%matplotlib inline\n",
    "\n"
   ]
  },
  {
   "cell_type": "code",
   "execution_count": 230,
   "metadata": {},
   "outputs": [],
   "source": [
    "import os \n",
    "os.chdir ('/Users/AnjaniK/Desktop/LOAN_EXERCISE_FB/')"
   ]
  },
  {
   "cell_type": "code",
   "execution_count": 231,
   "metadata": {},
   "outputs": [
    {
     "data": {
      "text/plain": [
       "'C:\\\\Users\\\\AnjaniK\\\\Desktop\\\\LOAN_EXERCISE_FB'"
      ]
     },
     "execution_count": 231,
     "metadata": {},
     "output_type": "execute_result"
    }
   ],
   "source": [
    "pwd()"
   ]
  },
  {
   "cell_type": "code",
   "execution_count": 232,
   "metadata": {},
   "outputs": [
    {
     "data": {
      "text/html": [
       "<div>\n",
       "<style scoped>\n",
       "    .dataframe tbody tr th:only-of-type {\n",
       "        vertical-align: middle;\n",
       "    }\n",
       "\n",
       "    .dataframe tbody tr th {\n",
       "        vertical-align: top;\n",
       "    }\n",
       "\n",
       "    .dataframe thead th {\n",
       "        text-align: right;\n",
       "    }\n",
       "</style>\n",
       "<table border=\"1\" class=\"dataframe\">\n",
       "  <thead>\n",
       "    <tr style=\"text-align: right;\">\n",
       "      <th></th>\n",
       "      <th>id</th>\n",
       "      <th>Loan Amount</th>\n",
       "      <th>Interest_Rate</th>\n",
       "      <th>Loan_Duration (days)</th>\n",
       "      <th>Employment_Title</th>\n",
       "      <th>Annual_Income</th>\n",
       "      <th>Loan_Status</th>\n",
       "      <th>Total_received_principal</th>\n",
       "      <th>Total_received_late_fee</th>\n",
       "      <th>Loan Date</th>\n",
       "    </tr>\n",
       "  </thead>\n",
       "  <tbody>\n",
       "    <tr>\n",
       "      <th>0</th>\n",
       "      <td>1</td>\n",
       "      <td>15000</td>\n",
       "      <td>0.0890</td>\n",
       "      <td>476</td>\n",
       "      <td>aircraft maintenance engineer</td>\n",
       "      <td>63000.0</td>\n",
       "      <td>Fully Paid</td>\n",
       "      <td>15000.0</td>\n",
       "      <td>0.0</td>\n",
       "      <td>2014-08-10</td>\n",
       "    </tr>\n",
       "    <tr>\n",
       "      <th>1</th>\n",
       "      <td>2</td>\n",
       "      <td>12000</td>\n",
       "      <td>0.0762</td>\n",
       "      <td>373</td>\n",
       "      <td>Systems Engineer</td>\n",
       "      <td>96500.0</td>\n",
       "      <td>Fully Paid</td>\n",
       "      <td>12000.0</td>\n",
       "      <td>0.0</td>\n",
       "      <td>2014-05-24</td>\n",
       "    </tr>\n",
       "    <tr>\n",
       "      <th>2</th>\n",
       "      <td>3</td>\n",
       "      <td>27050</td>\n",
       "      <td>0.1099</td>\n",
       "      <td>885</td>\n",
       "      <td>Team Leadern Customer Ops &amp; Systems</td>\n",
       "      <td>55000.0</td>\n",
       "      <td>Fully Paid</td>\n",
       "      <td>27050.0</td>\n",
       "      <td>0.0</td>\n",
       "      <td>2014-11-04</td>\n",
       "    </tr>\n",
       "    <tr>\n",
       "      <th>3</th>\n",
       "      <td>4</td>\n",
       "      <td>12000</td>\n",
       "      <td>0.1099</td>\n",
       "      <td>392</td>\n",
       "      <td>Project Manager</td>\n",
       "      <td>60000.0</td>\n",
       "      <td>Fully Paid</td>\n",
       "      <td>12000.0</td>\n",
       "      <td>0.0</td>\n",
       "      <td>2014-07-07</td>\n",
       "    </tr>\n",
       "    <tr>\n",
       "      <th>4</th>\n",
       "      <td>5</td>\n",
       "      <td>4800</td>\n",
       "      <td>0.1099</td>\n",
       "      <td>157</td>\n",
       "      <td>Surgical Technician</td>\n",
       "      <td>39600.0</td>\n",
       "      <td>Fully Paid</td>\n",
       "      <td>4800.0</td>\n",
       "      <td>0.0</td>\n",
       "      <td>2014-03-04</td>\n",
       "    </tr>\n",
       "  </tbody>\n",
       "</table>\n",
       "</div>"
      ],
      "text/plain": [
       "   id  Loan Amount  Interest_Rate  Loan_Duration (days)  \\\n",
       "0   1        15000         0.0890                   476   \n",
       "1   2        12000         0.0762                   373   \n",
       "2   3        27050         0.1099                   885   \n",
       "3   4        12000         0.1099                   392   \n",
       "4   5         4800         0.1099                   157   \n",
       "\n",
       "                      Employment_Title  Annual_Income Loan_Status  \\\n",
       "0        aircraft maintenance engineer        63000.0  Fully Paid   \n",
       "1                     Systems Engineer        96500.0  Fully Paid   \n",
       "2  Team Leadern Customer Ops & Systems        55000.0  Fully Paid   \n",
       "3                      Project Manager        60000.0  Fully Paid   \n",
       "4                  Surgical Technician        39600.0  Fully Paid   \n",
       "\n",
       "   Total_received_principal  Total_received_late_fee  Loan Date  \n",
       "0                   15000.0                      0.0 2014-08-10  \n",
       "1                   12000.0                      0.0 2014-05-24  \n",
       "2                   27050.0                      0.0 2014-11-04  \n",
       "3                   12000.0                      0.0 2014-07-07  \n",
       "4                    4800.0                      0.0 2014-03-04  "
      ]
     },
     "execution_count": 232,
     "metadata": {},
     "output_type": "execute_result"
    }
   ],
   "source": [
    "# Read in Data (P.S. I cleaned up the original dataset, then converted the given excel file to open document format (ODS))\n",
    "df = pd.read_excel(\"Loan_Exercise.ods\", engine=\"odf\")\n",
    "df.head()"
   ]
  },
  {
   "cell_type": "markdown",
   "metadata": {
    "nbgrader": {
     "grade": false,
     "locked": true,
     "solution": false
    }
   },
   "source": [
    "### Explore the Data  \n",
    "#### Check dimensions, null values, datatype inconsistencies, and outliers"
   ]
  },
  {
   "cell_type": "code",
   "execution_count": 233,
   "metadata": {
    "nbgrader": {
     "grade": false,
     "locked": true,
     "solution": false
    }
   },
   "outputs": [
    {
     "name": "stdout",
     "output_type": "stream",
     "text": [
      "Data Shape (Rows x Columns):  (198, 10) \n",
      "\n"
     ]
    }
   ],
   "source": [
    "print(\"Data Shape (Rows x Columns): \" , df.shape, \"\\n\")\n"
   ]
  },
  {
   "cell_type": "code",
   "execution_count": 234,
   "metadata": {},
   "outputs": [
    {
     "name": "stdout",
     "output_type": "stream",
     "text": [
      "<class 'pandas.core.frame.DataFrame'>\n",
      "RangeIndex: 198 entries, 0 to 197\n",
      "Data columns (total 10 columns):\n",
      " #   Column                    Non-Null Count  Dtype         \n",
      "---  ------                    --------------  -----         \n",
      " 0   id                        198 non-null    int64         \n",
      " 1   Loan Amount               198 non-null    int64         \n",
      " 2   Interest_Rate             198 non-null    float64       \n",
      " 3   Loan_Duration (days)      198 non-null    int64         \n",
      " 4   Employment_Title          192 non-null    object        \n",
      " 5   Annual_Income             198 non-null    float64       \n",
      " 6   Loan_Status               198 non-null    object        \n",
      " 7   Total_received_principal  198 non-null    float64       \n",
      " 8   Total_received_late_fee   198 non-null    float64       \n",
      " 9   Loan Date                 198 non-null    datetime64[ns]\n",
      "dtypes: datetime64[ns](1), float64(4), int64(3), object(2)\n",
      "memory usage: 15.6+ KB\n"
     ]
    }
   ],
   "source": [
    "### explore the schema, data types for each feature and total memory usage \n",
    "df.info()"
   ]
  },
  {
   "cell_type": "code",
   "execution_count": 235,
   "metadata": {},
   "outputs": [
    {
     "data": {
      "text/html": [
       "<div>\n",
       "<style scoped>\n",
       "    .dataframe tbody tr th:only-of-type {\n",
       "        vertical-align: middle;\n",
       "    }\n",
       "\n",
       "    .dataframe tbody tr th {\n",
       "        vertical-align: top;\n",
       "    }\n",
       "\n",
       "    .dataframe thead th {\n",
       "        text-align: right;\n",
       "    }\n",
       "</style>\n",
       "<table border=\"1\" class=\"dataframe\">\n",
       "  <thead>\n",
       "    <tr style=\"text-align: right;\">\n",
       "      <th></th>\n",
       "      <th>id</th>\n",
       "      <th>Loan Amount</th>\n",
       "      <th>Interest_Rate</th>\n",
       "      <th>Loan_Duration (days)</th>\n",
       "      <th>Annual_Income</th>\n",
       "      <th>Total_received_principal</th>\n",
       "      <th>Total_received_late_fee</th>\n",
       "    </tr>\n",
       "  </thead>\n",
       "  <tbody>\n",
       "    <tr>\n",
       "      <th>count</th>\n",
       "      <td>198.000000</td>\n",
       "      <td>198.000000</td>\n",
       "      <td>198.000000</td>\n",
       "      <td>198.000000</td>\n",
       "      <td>198.000000</td>\n",
       "      <td>198.000000</td>\n",
       "      <td>198.000000</td>\n",
       "    </tr>\n",
       "    <tr>\n",
       "      <th>mean</th>\n",
       "      <td>99.500000</td>\n",
       "      <td>14472.601010</td>\n",
       "      <td>0.146023</td>\n",
       "      <td>451.085859</td>\n",
       "      <td>79265.065657</td>\n",
       "      <td>13275.233283</td>\n",
       "      <td>0.642778</td>\n",
       "    </tr>\n",
       "    <tr>\n",
       "      <th>std</th>\n",
       "      <td>57.301832</td>\n",
       "      <td>8281.059664</td>\n",
       "      <td>0.041134</td>\n",
       "      <td>255.838638</td>\n",
       "      <td>48614.628808</td>\n",
       "      <td>8411.903966</td>\n",
       "      <td>3.867077</td>\n",
       "    </tr>\n",
       "    <tr>\n",
       "      <th>min</th>\n",
       "      <td>1.000000</td>\n",
       "      <td>1000.000000</td>\n",
       "      <td>0.060300</td>\n",
       "      <td>37.000000</td>\n",
       "      <td>21900.000000</td>\n",
       "      <td>0.000000</td>\n",
       "      <td>0.000000</td>\n",
       "    </tr>\n",
       "    <tr>\n",
       "      <th>25%</th>\n",
       "      <td>50.250000</td>\n",
       "      <td>9062.500000</td>\n",
       "      <td>0.119900</td>\n",
       "      <td>274.250000</td>\n",
       "      <td>50000.000000</td>\n",
       "      <td>7002.600000</td>\n",
       "      <td>0.000000</td>\n",
       "    </tr>\n",
       "    <tr>\n",
       "      <th>50%</th>\n",
       "      <td>99.500000</td>\n",
       "      <td>12000.000000</td>\n",
       "      <td>0.144700</td>\n",
       "      <td>393.500000</td>\n",
       "      <td>70000.000000</td>\n",
       "      <td>11744.405000</td>\n",
       "      <td>0.000000</td>\n",
       "    </tr>\n",
       "    <tr>\n",
       "      <th>75%</th>\n",
       "      <td>148.750000</td>\n",
       "      <td>19668.750000</td>\n",
       "      <td>0.169900</td>\n",
       "      <td>564.500000</td>\n",
       "      <td>94454.750000</td>\n",
       "      <td>17106.250000</td>\n",
       "      <td>0.000000</td>\n",
       "    </tr>\n",
       "    <tr>\n",
       "      <th>max</th>\n",
       "      <td>198.000000</td>\n",
       "      <td>35000.000000</td>\n",
       "      <td>0.258900</td>\n",
       "      <td>1406.000000</td>\n",
       "      <td>425000.000000</td>\n",
       "      <td>35000.000000</td>\n",
       "      <td>32.720000</td>\n",
       "    </tr>\n",
       "  </tbody>\n",
       "</table>\n",
       "</div>"
      ],
      "text/plain": [
       "               id   Loan Amount  Interest_Rate  Loan_Duration (days)  \\\n",
       "count  198.000000    198.000000     198.000000            198.000000   \n",
       "mean    99.500000  14472.601010       0.146023            451.085859   \n",
       "std     57.301832   8281.059664       0.041134            255.838638   \n",
       "min      1.000000   1000.000000       0.060300             37.000000   \n",
       "25%     50.250000   9062.500000       0.119900            274.250000   \n",
       "50%     99.500000  12000.000000       0.144700            393.500000   \n",
       "75%    148.750000  19668.750000       0.169900            564.500000   \n",
       "max    198.000000  35000.000000       0.258900           1406.000000   \n",
       "\n",
       "       Annual_Income  Total_received_principal  Total_received_late_fee  \n",
       "count     198.000000                198.000000               198.000000  \n",
       "mean    79265.065657              13275.233283                 0.642778  \n",
       "std     48614.628808               8411.903966                 3.867077  \n",
       "min     21900.000000                  0.000000                 0.000000  \n",
       "25%     50000.000000               7002.600000                 0.000000  \n",
       "50%     70000.000000              11744.405000                 0.000000  \n",
       "75%     94454.750000              17106.250000                 0.000000  \n",
       "max    425000.000000              35000.000000                32.720000  "
      ]
     },
     "execution_count": 235,
     "metadata": {},
     "output_type": "execute_result"
    }
   ],
   "source": [
    "### perform descriptive statistics on numerical columns\n",
    "### we can see count, mean, standard deviation, Nth percentile, min and max values\n",
    "df.describe()"
   ]
  },
  {
   "cell_type": "code",
   "execution_count": 236,
   "metadata": {},
   "outputs": [
    {
     "data": {
      "text/plain": [
       "id                          0\n",
       "Loan Amount                 0\n",
       "Interest_Rate               0\n",
       "Loan_Duration (days)        0\n",
       "Employment_Title            6\n",
       "Annual_Income               0\n",
       "Loan_Status                 0\n",
       "Total_received_principal    0\n",
       "Total_received_late_fee     0\n",
       "Loan Date                   0\n",
       "dtype: int64"
      ]
     },
     "execution_count": 236,
     "metadata": {},
     "output_type": "execute_result"
    }
   ],
   "source": [
    "### It appears there's some null values in one of the columns. \n",
    "### So imputation step may be necessary for Employment_Title column.\n",
    "df.isna().sum()"
   ]
  },
  {
   "cell_type": "code",
   "execution_count": 237,
   "metadata": {},
   "outputs": [
    {
     "data": {
      "text/html": [
       "<div>\n",
       "<style scoped>\n",
       "    .dataframe tbody tr th:only-of-type {\n",
       "        vertical-align: middle;\n",
       "    }\n",
       "\n",
       "    .dataframe tbody tr th {\n",
       "        vertical-align: top;\n",
       "    }\n",
       "\n",
       "    .dataframe thead th {\n",
       "        text-align: right;\n",
       "    }\n",
       "</style>\n",
       "<table border=\"1\" class=\"dataframe\">\n",
       "  <thead>\n",
       "    <tr style=\"text-align: right;\">\n",
       "      <th></th>\n",
       "      <th>id</th>\n",
       "      <th>Loan Amount</th>\n",
       "      <th>Interest_Rate</th>\n",
       "      <th>Loan_Duration (days)</th>\n",
       "      <th>Employment_Title</th>\n",
       "      <th>Annual_Income</th>\n",
       "      <th>Loan_Status</th>\n",
       "      <th>Total_received_principal</th>\n",
       "      <th>Total_received_late_fee</th>\n",
       "      <th>Loan Date</th>\n",
       "    </tr>\n",
       "  </thead>\n",
       "  <tbody>\n",
       "    <tr>\n",
       "      <th>0</th>\n",
       "      <td>1</td>\n",
       "      <td>15000</td>\n",
       "      <td>0.0890</td>\n",
       "      <td>476</td>\n",
       "      <td>aircraft maintenance engineer</td>\n",
       "      <td>63000.0</td>\n",
       "      <td>Fully Paid</td>\n",
       "      <td>15000.0</td>\n",
       "      <td>0.0</td>\n",
       "      <td>2014-08-10</td>\n",
       "    </tr>\n",
       "    <tr>\n",
       "      <th>1</th>\n",
       "      <td>2</td>\n",
       "      <td>12000</td>\n",
       "      <td>0.0762</td>\n",
       "      <td>373</td>\n",
       "      <td>Systems Engineer</td>\n",
       "      <td>96500.0</td>\n",
       "      <td>Fully Paid</td>\n",
       "      <td>12000.0</td>\n",
       "      <td>0.0</td>\n",
       "      <td>2014-05-24</td>\n",
       "    </tr>\n",
       "    <tr>\n",
       "      <th>2</th>\n",
       "      <td>3</td>\n",
       "      <td>27050</td>\n",
       "      <td>0.1099</td>\n",
       "      <td>885</td>\n",
       "      <td>Team Leadern Customer Ops &amp; Systems</td>\n",
       "      <td>55000.0</td>\n",
       "      <td>Fully Paid</td>\n",
       "      <td>27050.0</td>\n",
       "      <td>0.0</td>\n",
       "      <td>2014-11-04</td>\n",
       "    </tr>\n",
       "    <tr>\n",
       "      <th>3</th>\n",
       "      <td>4</td>\n",
       "      <td>12000</td>\n",
       "      <td>0.1099</td>\n",
       "      <td>392</td>\n",
       "      <td>Project Manager</td>\n",
       "      <td>60000.0</td>\n",
       "      <td>Fully Paid</td>\n",
       "      <td>12000.0</td>\n",
       "      <td>0.0</td>\n",
       "      <td>2014-07-07</td>\n",
       "    </tr>\n",
       "    <tr>\n",
       "      <th>4</th>\n",
       "      <td>5</td>\n",
       "      <td>4800</td>\n",
       "      <td>0.1099</td>\n",
       "      <td>157</td>\n",
       "      <td>Surgical Technician</td>\n",
       "      <td>39600.0</td>\n",
       "      <td>Fully Paid</td>\n",
       "      <td>4800.0</td>\n",
       "      <td>0.0</td>\n",
       "      <td>2014-03-04</td>\n",
       "    </tr>\n",
       "  </tbody>\n",
       "</table>\n",
       "</div>"
      ],
      "text/plain": [
       "   id  Loan Amount  Interest_Rate  Loan_Duration (days)  \\\n",
       "0   1        15000         0.0890                   476   \n",
       "1   2        12000         0.0762                   373   \n",
       "2   3        27050         0.1099                   885   \n",
       "3   4        12000         0.1099                   392   \n",
       "4   5         4800         0.1099                   157   \n",
       "\n",
       "                      Employment_Title  Annual_Income Loan_Status  \\\n",
       "0        aircraft maintenance engineer        63000.0  Fully Paid   \n",
       "1                     Systems Engineer        96500.0  Fully Paid   \n",
       "2  Team Leadern Customer Ops & Systems        55000.0  Fully Paid   \n",
       "3                      Project Manager        60000.0  Fully Paid   \n",
       "4                  Surgical Technician        39600.0  Fully Paid   \n",
       "\n",
       "   Total_received_principal  Total_received_late_fee  Loan Date  \n",
       "0                   15000.0                      0.0 2014-08-10  \n",
       "1                   12000.0                      0.0 2014-05-24  \n",
       "2                   27050.0                      0.0 2014-11-04  \n",
       "3                   12000.0                      0.0 2014-07-07  \n",
       "4                    4800.0                      0.0 2014-03-04  "
      ]
     },
     "execution_count": 237,
     "metadata": {},
     "output_type": "execute_result"
    }
   ],
   "source": [
    "df = df.fillna(df.mode().iloc[0])\n",
    "df.head()"
   ]
  },
  {
   "cell_type": "code",
   "execution_count": 238,
   "metadata": {},
   "outputs": [
    {
     "data": {
      "text/plain": [
       "id                          0\n",
       "Loan Amount                 0\n",
       "Interest_Rate               0\n",
       "Loan_Duration (days)        0\n",
       "Employment_Title            0\n",
       "Annual_Income               0\n",
       "Loan_Status                 0\n",
       "Total_received_principal    0\n",
       "Total_received_late_fee     0\n",
       "Loan Date                   0\n",
       "dtype: int64"
      ]
     },
     "execution_count": 238,
     "metadata": {},
     "output_type": "execute_result"
    }
   ],
   "source": [
    "### After imputation with mode (most frequent value), there are no nulls\n",
    "df.isna().sum()"
   ]
  },
  {
   "cell_type": "markdown",
   "metadata": {
    "nbgrader": {
     "grade": false,
     "locked": true,
     "solution": false
    }
   },
   "source": [
    "    \n",
    "### Investigate Categorical Variables  \n",
    "\n",
    "The \"`default payment next month`\" will be the target used for classification. Investigate its distribution."
   ]
  },
  {
   "cell_type": "code",
   "execution_count": 239,
   "metadata": {},
   "outputs": [
    {
     "name": "stdout",
     "output_type": "stream",
     "text": [
      "Fully Paid     173\n",
      "Charged Off     25\n",
      "Name: Loan_Status, dtype: int64\n",
      "Fully Paid: 173\n",
      "Charged Off: 25\n"
     ]
    }
   ],
   "source": [
    "# explore if the classes are balanced/imbalanced\n",
    "\n",
    "value_counts = df['Loan_Status'].value_counts()\n",
    "print (value_counts)\n",
    "\n",
    "print (\"Fully Paid:\", value_counts[0])  #173 records\n",
    "print (\"Charged Off:\", value_counts[1])  #25 records\n",
    "\n",
    "# classes are imbalanced\n",
    "# SMOTE may be necessary"
   ]
  },
  {
   "cell_type": "markdown",
   "metadata": {
    "collapsed": true
   },
   "source": [
    "This disparity in proportion of default and non-default records means we are dealing with unbalanced classes. In order to avoid bias, we need to balance the minority class (the class with fewer data points) by over-sampling (SMOTE: Synthetic Minority Oversampling Technique)\n"
   ]
  },
  {
   "cell_type": "markdown",
   "metadata": {
    "nbgrader": {
     "grade": false,
     "locked": true,
     "solution": false
    }
   },
   "source": [
    "#### Investigating the Features:"
   ]
  },
  {
   "cell_type": "code",
   "execution_count": 240,
   "metadata": {
    "nbgrader": {
     "grade": false,
     "locked": true,
     "solution": false
    }
   },
   "outputs": [
    {
     "data": {
      "text/plain": [
       "169"
      ]
     },
     "execution_count": 240,
     "metadata": {},
     "output_type": "execute_result"
    }
   ],
   "source": [
    "df['Employment_Title'].nunique()"
   ]
  },
  {
   "cell_type": "markdown",
   "metadata": {
    "nbgrader": {
     "grade": false,
     "locked": true,
     "solution": false
    }
   },
   "source": [
    "Note:We have given 169 different employment titles, and an additional 6 records having null values (from above)"
   ]
  },
  {
   "cell_type": "code",
   "execution_count": 241,
   "metadata": {},
   "outputs": [
    {
     "data": {
      "text/plain": [
       "Teacher                         15\n",
       "Registered Nurse                 5\n",
       "Project Manager                  4\n",
       "Manager                          4\n",
       "General Manager                  2\n",
       "                                ..\n",
       "Systems Analyst                  1\n",
       "BRANCH MANAGER                   1\n",
       "Lead Sr. Consultant              1\n",
       "LTC                              1\n",
       "Street Operations Supervisor     1\n",
       "Name: Employment_Title, Length: 169, dtype: int64"
      ]
     },
     "execution_count": 241,
     "metadata": {},
     "output_type": "execute_result"
    }
   ],
   "source": [
    "df['Employment_Title'].value_counts()"
   ]
  },
  {
   "cell_type": "code",
   "execution_count": 242,
   "metadata": {
    "nbgrader": {
     "grade": false,
     "locked": true,
     "solution": false
    }
   },
   "outputs": [
    {
     "data": {
      "text/plain": [
       "60000.0     10\n",
       "70000.0      7\n",
       "80000.0      7\n",
       "50000.0      7\n",
       "65000.0      7\n",
       "            ..\n",
       "250000.0     1\n",
       "59400.0      1\n",
       "28160.5      1\n",
       "105680.0     1\n",
       "61000.0      1\n",
       "Name: Annual_Income, Length: 107, dtype: int64"
      ]
     },
     "execution_count": 242,
     "metadata": {},
     "output_type": "execute_result"
    }
   ],
   "source": [
    "df['Annual_Income'].value_counts()"
   ]
  },
  {
   "cell_type": "code",
   "execution_count": 243,
   "metadata": {
    "nbgrader": {
     "grade": false,
     "locked": true,
     "solution": false
    }
   },
   "outputs": [
    {
     "data": {
      "text/plain": [
       "12000    18\n",
       "10000    16\n",
       "35000     9\n",
       "20000     9\n",
       "16000     8\n",
       "         ..\n",
       "7550      1\n",
       "29175     1\n",
       "10100     1\n",
       "2200      1\n",
       "19200     1\n",
       "Name: Loan Amount, Length: 85, dtype: int64"
      ]
     },
     "execution_count": 243,
     "metadata": {},
     "output_type": "execute_result"
    }
   ],
   "source": [
    "df['Loan Amount'].value_counts()"
   ]
  },
  {
   "cell_type": "code",
   "execution_count": 244,
   "metadata": {},
   "outputs": [
    {
     "data": {
      "text/plain": [
       "0.1398    17\n",
       "0.1353    15\n",
       "0.1624    14\n",
       "0.1199    13\n",
       "0.1498    13\n",
       "0.1561    12\n",
       "0.1099    11\n",
       "0.0762    10\n",
       "0.1447     9\n",
       "0.1825     9\n",
       "0.1285     8\n",
       "0.0790     7\n",
       "0.1922     7\n",
       "0.2050     7\n",
       "0.1757     7\n",
       "0.0967     7\n",
       "0.1699     6\n",
       "0.0890     6\n",
       "0.1997     5\n",
       "0.2290     3\n",
       "0.2148     3\n",
       "0.2240     3\n",
       "0.0662     1\n",
       "0.2370     1\n",
       "0.0603     1\n",
       "0.2580     1\n",
       "0.2589     1\n",
       "0.2340     1\n",
       "Name: Interest_Rate, dtype: int64"
      ]
     },
     "execution_count": 244,
     "metadata": {},
     "output_type": "execute_result"
    }
   ],
   "source": [
    "df['Interest_Rate'].value_counts()"
   ]
  },
  {
   "cell_type": "code",
   "execution_count": 245,
   "metadata": {},
   "outputs": [
    {
     "data": {
      "text/plain": [
       "332    5\n",
       "407    4\n",
       "321    3\n",
       "380    3\n",
       "488    3\n",
       "      ..\n",
       "415    1\n",
       "670    1\n",
       "157    1\n",
       "155    1\n",
       "282    1\n",
       "Name: Loan_Duration (days), Length: 160, dtype: int64"
      ]
     },
     "execution_count": 245,
     "metadata": {},
     "output_type": "execute_result"
    }
   ],
   "source": [
    "df['Loan_Duration (days)'].value_counts()"
   ]
  },
  {
   "cell_type": "markdown",
   "metadata": {
    "nbgrader": {
     "grade": false,
     "locked": true,
     "solution": false
    }
   },
   "source": [
    "#### A Closer look at the \"Total_received_principal\" vs \"Total_received_late_fee\" variable"
   ]
  },
  {
   "cell_type": "code",
   "execution_count": 246,
   "metadata": {
    "nbgrader": {
     "grade": false,
     "locked": true,
     "solution": false
    }
   },
   "outputs": [
    {
     "data": {
      "text/plain": [
       "12000.00    16\n",
       "10000.00    15\n",
       "35000.00     8\n",
       "20000.00     8\n",
       "16000.00     6\n",
       "            ..\n",
       "26400.00     1\n",
       "15600.00     1\n",
       "15875.00     1\n",
       "28100.00     1\n",
       "8903.98      1\n",
       "Name: Total_received_principal, Length: 101, dtype: int64"
      ]
     },
     "execution_count": 246,
     "metadata": {},
     "output_type": "execute_result"
    }
   ],
   "source": [
    "df['Total_received_principal'].value_counts()"
   ]
  },
  {
   "cell_type": "code",
   "execution_count": 247,
   "metadata": {},
   "outputs": [
    {
     "data": {
      "text/plain": [
       "0.00     192\n",
       "15.00      2\n",
       "15.00      1\n",
       "19.55      1\n",
       "32.72      1\n",
       "30.00      1\n",
       "Name: Total_received_late_fee, dtype: int64"
      ]
     },
     "execution_count": 247,
     "metadata": {},
     "output_type": "execute_result"
    }
   ],
   "source": [
    "df['Total_received_late_fee'].value_counts()"
   ]
  },
  {
   "cell_type": "code",
   "execution_count": 248,
   "metadata": {},
   "outputs": [],
   "source": [
    "### drop unpromotable date type column (run once)\n",
    "df.drop('Loan Date', axis='columns', inplace=True)\n"
   ]
  },
  {
   "cell_type": "markdown",
   "metadata": {
    "nbgrader": {
     "grade": false,
     "locked": true,
     "solution": false
    }
   },
   "source": [
    "#### Investigate relationship between \"Annual_Income\", \"Loan Amount\"  predictor variables:"
   ]
  },
  {
   "cell_type": "code",
   "execution_count": 249,
   "metadata": {
    "nbgrader": {
     "grade": false,
     "locked": true,
     "solution": false
    }
   },
   "outputs": [
    {
     "data": {
      "image/png": "[encoded data removed]",
      "text/plain": [
       "<Figure size 864x360 with 1 Axes>"
      ]
     },
     "metadata": {
      "needs_background": "light"
     },
     "output_type": "display_data"
    }
   ],
   "source": [
    "plt.figure(figsize=(12,5)) #change your figure size as per your desire here\n",
    "n,bins,patch = plt.hist(df['Annual_Income'], bins=10, color='green', alpha=0.8, label='Value', edgecolor='orange', linewidth=2)\n",
    "n,bins,patch = plt.hist(df['Loan Amount'], bins=10, color='red', alpha=0.8, label='Value', edgecolor='green', linewidth=2)\n"
   ]
  },
  {
   "cell_type": "markdown",
   "metadata": {},
   "source": [
    "## Outlier Detection\n",
    "#### BoxPlots are one of the best ways to visualize data and detect outliers"
   ]
  },
  {
   "cell_type": "code",
   "execution_count": 250,
   "metadata": {
    "nbgrader": {
     "grade": false,
     "locked": true,
     "solution": false
    }
   },
   "outputs": [
    {
     "data": {
      "text/plain": [
       "<matplotlib.axes._subplots.AxesSubplot at 0x1f567ee9a88>"
      ]
     },
     "execution_count": 250,
     "metadata": {},
     "output_type": "execute_result"
    },
    {
     "data": {
      "image/png": "[encoded data removed]",
      "text/plain": [
       "<Figure size 720x504 with 1 Axes>"
      ]
     },
     "metadata": {
      "needs_background": "light"
     },
     "output_type": "display_data"
    }
   ],
   "source": [
    "df[['Annual_Income','Total_received_principal','Loan Amount']].boxplot(figsize =(10, 7))"
   ]
  },
  {
   "cell_type": "code",
   "execution_count": 251,
   "metadata": {},
   "outputs": [],
   "source": [
    "### removing outliers -- data lying outside of 3 standard deviations\n",
    "\n",
    "df = df[np.abs(df['Annual_Income']-df['Annual_Income'].mean()) <= (3*df['Annual_Income'].std())]"
   ]
  },
  {
   "cell_type": "code",
   "execution_count": 252,
   "metadata": {},
   "outputs": [
    {
     "data": {
      "text/html": [
       "<div>\n",
       "<style scoped>\n",
       "    .dataframe tbody tr th:only-of-type {\n",
       "        vertical-align: middle;\n",
       "    }\n",
       "\n",
       "    .dataframe tbody tr th {\n",
       "        vertical-align: top;\n",
       "    }\n",
       "\n",
       "    .dataframe thead th {\n",
       "        text-align: right;\n",
       "    }\n",
       "</style>\n",
       "<table border=\"1\" class=\"dataframe\">\n",
       "  <thead>\n",
       "    <tr style=\"text-align: right;\">\n",
       "      <th></th>\n",
       "      <th>id</th>\n",
       "      <th>Loan Amount</th>\n",
       "      <th>Interest_Rate</th>\n",
       "      <th>Loan_Duration (days)</th>\n",
       "      <th>Employment_Title</th>\n",
       "      <th>Annual_Income</th>\n",
       "      <th>Loan_Status</th>\n",
       "      <th>Total_received_principal</th>\n",
       "      <th>Total_received_late_fee</th>\n",
       "    </tr>\n",
       "  </thead>\n",
       "  <tbody>\n",
       "    <tr>\n",
       "      <th>0</th>\n",
       "      <td>1</td>\n",
       "      <td>15000</td>\n",
       "      <td>0.0890</td>\n",
       "      <td>476</td>\n",
       "      <td>aircraft maintenance engineer</td>\n",
       "      <td>63000.0</td>\n",
       "      <td>Fully Paid</td>\n",
       "      <td>15000.0</td>\n",
       "      <td>0.0</td>\n",
       "    </tr>\n",
       "    <tr>\n",
       "      <th>1</th>\n",
       "      <td>2</td>\n",
       "      <td>12000</td>\n",
       "      <td>0.0762</td>\n",
       "      <td>373</td>\n",
       "      <td>Systems Engineer</td>\n",
       "      <td>96500.0</td>\n",
       "      <td>Fully Paid</td>\n",
       "      <td>12000.0</td>\n",
       "      <td>0.0</td>\n",
       "    </tr>\n",
       "    <tr>\n",
       "      <th>2</th>\n",
       "      <td>3</td>\n",
       "      <td>27050</td>\n",
       "      <td>0.1099</td>\n",
       "      <td>885</td>\n",
       "      <td>Team Leadern Customer Ops &amp; Systems</td>\n",
       "      <td>55000.0</td>\n",
       "      <td>Fully Paid</td>\n",
       "      <td>27050.0</td>\n",
       "      <td>0.0</td>\n",
       "    </tr>\n",
       "    <tr>\n",
       "      <th>3</th>\n",
       "      <td>4</td>\n",
       "      <td>12000</td>\n",
       "      <td>0.1099</td>\n",
       "      <td>392</td>\n",
       "      <td>Project Manager</td>\n",
       "      <td>60000.0</td>\n",
       "      <td>Fully Paid</td>\n",
       "      <td>12000.0</td>\n",
       "      <td>0.0</td>\n",
       "    </tr>\n",
       "    <tr>\n",
       "      <th>4</th>\n",
       "      <td>5</td>\n",
       "      <td>4800</td>\n",
       "      <td>0.1099</td>\n",
       "      <td>157</td>\n",
       "      <td>Surgical Technician</td>\n",
       "      <td>39600.0</td>\n",
       "      <td>Fully Paid</td>\n",
       "      <td>4800.0</td>\n",
       "      <td>0.0</td>\n",
       "    </tr>\n",
       "  </tbody>\n",
       "</table>\n",
       "</div>"
      ],
      "text/plain": [
       "   id  Loan Amount  Interest_Rate  Loan_Duration (days)  \\\n",
       "0   1        15000         0.0890                   476   \n",
       "1   2        12000         0.0762                   373   \n",
       "2   3        27050         0.1099                   885   \n",
       "3   4        12000         0.1099                   392   \n",
       "4   5         4800         0.1099                   157   \n",
       "\n",
       "                      Employment_Title  Annual_Income Loan_Status  \\\n",
       "0        aircraft maintenance engineer        63000.0  Fully Paid   \n",
       "1                     Systems Engineer        96500.0  Fully Paid   \n",
       "2  Team Leadern Customer Ops & Systems        55000.0  Fully Paid   \n",
       "3                      Project Manager        60000.0  Fully Paid   \n",
       "4                  Surgical Technician        39600.0  Fully Paid   \n",
       "\n",
       "   Total_received_principal  Total_received_late_fee  \n",
       "0                   15000.0                      0.0  \n",
       "1                   12000.0                      0.0  \n",
       "2                   27050.0                      0.0  \n",
       "3                   12000.0                      0.0  \n",
       "4                    4800.0                      0.0  "
      ]
     },
     "execution_count": 252,
     "metadata": {},
     "output_type": "execute_result"
    }
   ],
   "source": [
    "df.head()"
   ]
  },
  {
   "cell_type": "code",
   "execution_count": 253,
   "metadata": {},
   "outputs": [
    {
     "data": {
      "text/plain": [
       "<matplotlib.axes._subplots.AxesSubplot at 0x1f567e1ca48>"
      ]
     },
     "execution_count": 253,
     "metadata": {},
     "output_type": "execute_result"
    },
    {
     "data": {
      "image/png": "[encoded data removed]",
      "text/plain": [
       "<Figure size 720x504 with 1 Axes>"
      ]
     },
     "metadata": {
      "needs_background": "light"
     },
     "output_type": "display_data"
    }
   ],
   "source": [
    "df[['Annual_Income','Total_received_principal','Loan Amount']].boxplot(figsize =(10, 7))"
   ]
  },
  {
   "cell_type": "markdown",
   "metadata": {
    "nbgrader": {
     "grade": false,
     "locked": true,
     "solution": false
    }
   },
   "source": [
    "### Preprocessing\n",
    "We have some categorical columns in our dataset.\n",
    "`pd.get_dummies()` will allow us to create n-1 binary features to encode the n categories.  \n",
    "\n",
    "#### Note regarding `get_dummies()`\n",
    "`pd.get_dummies()` is **NOT** appropriate in many ML applications because it cannot deal with \"new\" categories possibly found in a test set. The function is used here for simplicities' sake.\n"
   ]
  },
  {
   "cell_type": "code",
   "execution_count": 254,
   "metadata": {},
   "outputs": [],
   "source": [
    "df = pd.concat([\n",
    "                df.drop('Loan_Status', axis = \"columns\"), \n",
    "                pd.get_dummies(df['Loan_Status'], \n",
    "                               prefix = None, drop_first = True)],\n",
    "                axis = 'columns')\n"
   ]
  },
  {
   "cell_type": "code",
   "execution_count": 255,
   "metadata": {},
   "outputs": [
    {
     "data": {
      "text/plain": [
       "1    169\n",
       "0     25\n",
       "Name: Fully Paid, dtype: int64"
      ]
     },
     "execution_count": 255,
     "metadata": {},
     "output_type": "execute_result"
    }
   ],
   "source": [
    "df['Fully Paid'].value_counts()"
   ]
  },
  {
   "cell_type": "code",
   "execution_count": 256,
   "metadata": {},
   "outputs": [],
   "source": [
    "df = pd.concat([\n",
    "                df.drop('Employment_Title', axis = \"columns\"), \n",
    "                pd.get_dummies(df['Employment_Title'], \n",
    "                               prefix = None, drop_first = True)],\n",
    "                axis = 'columns')"
   ]
  },
  {
   "cell_type": "code",
   "execution_count": 257,
   "metadata": {},
   "outputs": [
    {
     "data": {
      "text/html": [
       "<div>\n",
       "<style scoped>\n",
       "    .dataframe tbody tr th:only-of-type {\n",
       "        vertical-align: middle;\n",
       "    }\n",
       "\n",
       "    .dataframe tbody tr th {\n",
       "        vertical-align: top;\n",
       "    }\n",
       "\n",
       "    .dataframe thead th {\n",
       "        text-align: right;\n",
       "    }\n",
       "</style>\n",
       "<table border=\"1\" class=\"dataframe\">\n",
       "  <thead>\n",
       "    <tr style=\"text-align: right;\">\n",
       "      <th></th>\n",
       "      <th>id</th>\n",
       "      <th>Loan Amount</th>\n",
       "      <th>Interest_Rate</th>\n",
       "      <th>Loan_Duration (days)</th>\n",
       "      <th>Annual_Income</th>\n",
       "      <th>Total_received_principal</th>\n",
       "      <th>Total_received_late_fee</th>\n",
       "      <th>Fully Paid</th>\n",
       "      <th>AR2</th>\n",
       "      <th>Account Manager</th>\n",
       "      <th>...</th>\n",
       "      <th>mechanic</th>\n",
       "      <th>payroll/file clerk</th>\n",
       "      <th>production controller</th>\n",
       "      <th>public affairs</th>\n",
       "      <th>sales man</th>\n",
       "      <th>sales merchandiser</th>\n",
       "      <th>server</th>\n",
       "      <th>truck driver</th>\n",
       "      <th>ultrasound tech</th>\n",
       "      <th>vet tech</th>\n",
       "    </tr>\n",
       "  </thead>\n",
       "  <tbody>\n",
       "    <tr>\n",
       "      <th>0</th>\n",
       "      <td>1</td>\n",
       "      <td>15000</td>\n",
       "      <td>0.0890</td>\n",
       "      <td>476</td>\n",
       "      <td>63000.0</td>\n",
       "      <td>15000.0</td>\n",
       "      <td>0.0</td>\n",
       "      <td>1</td>\n",
       "      <td>0</td>\n",
       "      <td>0</td>\n",
       "      <td>...</td>\n",
       "      <td>0</td>\n",
       "      <td>0</td>\n",
       "      <td>0</td>\n",
       "      <td>0</td>\n",
       "      <td>0</td>\n",
       "      <td>0</td>\n",
       "      <td>0</td>\n",
       "      <td>0</td>\n",
       "      <td>0</td>\n",
       "      <td>0</td>\n",
       "    </tr>\n",
       "    <tr>\n",
       "      <th>1</th>\n",
       "      <td>2</td>\n",
       "      <td>12000</td>\n",
       "      <td>0.0762</td>\n",
       "      <td>373</td>\n",
       "      <td>96500.0</td>\n",
       "      <td>12000.0</td>\n",
       "      <td>0.0</td>\n",
       "      <td>1</td>\n",
       "      <td>0</td>\n",
       "      <td>0</td>\n",
       "      <td>...</td>\n",
       "      <td>0</td>\n",
       "      <td>0</td>\n",
       "      <td>0</td>\n",
       "      <td>0</td>\n",
       "      <td>0</td>\n",
       "      <td>0</td>\n",
       "      <td>0</td>\n",
       "      <td>0</td>\n",
       "      <td>0</td>\n",
       "      <td>0</td>\n",
       "    </tr>\n",
       "    <tr>\n",
       "      <th>2</th>\n",
       "      <td>3</td>\n",
       "      <td>27050</td>\n",
       "      <td>0.1099</td>\n",
       "      <td>885</td>\n",
       "      <td>55000.0</td>\n",
       "      <td>27050.0</td>\n",
       "      <td>0.0</td>\n",
       "      <td>1</td>\n",
       "      <td>0</td>\n",
       "      <td>0</td>\n",
       "      <td>...</td>\n",
       "      <td>0</td>\n",
       "      <td>0</td>\n",
       "      <td>0</td>\n",
       "      <td>0</td>\n",
       "      <td>0</td>\n",
       "      <td>0</td>\n",
       "      <td>0</td>\n",
       "      <td>0</td>\n",
       "      <td>0</td>\n",
       "      <td>0</td>\n",
       "    </tr>\n",
       "    <tr>\n",
       "      <th>3</th>\n",
       "      <td>4</td>\n",
       "      <td>12000</td>\n",
       "      <td>0.1099</td>\n",
       "      <td>392</td>\n",
       "      <td>60000.0</td>\n",
       "      <td>12000.0</td>\n",
       "      <td>0.0</td>\n",
       "      <td>1</td>\n",
       "      <td>0</td>\n",
       "      <td>0</td>\n",
       "      <td>...</td>\n",
       "      <td>0</td>\n",
       "      <td>0</td>\n",
       "      <td>0</td>\n",
       "      <td>0</td>\n",
       "      <td>0</td>\n",
       "      <td>0</td>\n",
       "      <td>0</td>\n",
       "      <td>0</td>\n",
       "      <td>0</td>\n",
       "      <td>0</td>\n",
       "    </tr>\n",
       "    <tr>\n",
       "      <th>4</th>\n",
       "      <td>5</td>\n",
       "      <td>4800</td>\n",
       "      <td>0.1099</td>\n",
       "      <td>157</td>\n",
       "      <td>39600.0</td>\n",
       "      <td>4800.0</td>\n",
       "      <td>0.0</td>\n",
       "      <td>1</td>\n",
       "      <td>0</td>\n",
       "      <td>0</td>\n",
       "      <td>...</td>\n",
       "      <td>0</td>\n",
       "      <td>0</td>\n",
       "      <td>0</td>\n",
       "      <td>0</td>\n",
       "      <td>0</td>\n",
       "      <td>0</td>\n",
       "      <td>0</td>\n",
       "      <td>0</td>\n",
       "      <td>0</td>\n",
       "      <td>0</td>\n",
       "    </tr>\n",
       "  </tbody>\n",
       "</table>\n",
       "<p>5 rows × 172 columns</p>\n",
       "</div>"
      ],
      "text/plain": [
       "   id  Loan Amount  Interest_Rate  Loan_Duration (days)  Annual_Income  \\\n",
       "0   1        15000         0.0890                   476        63000.0   \n",
       "1   2        12000         0.0762                   373        96500.0   \n",
       "2   3        27050         0.1099                   885        55000.0   \n",
       "3   4        12000         0.1099                   392        60000.0   \n",
       "4   5         4800         0.1099                   157        39600.0   \n",
       "\n",
       "   Total_received_principal  Total_received_late_fee  Fully Paid  AR2  \\\n",
       "0                   15000.0                      0.0           1    0   \n",
       "1                   12000.0                      0.0           1    0   \n",
       "2                   27050.0                      0.0           1    0   \n",
       "3                   12000.0                      0.0           1    0   \n",
       "4                    4800.0                      0.0           1    0   \n",
       "\n",
       "   Account Manager  ...  mechanic  payroll/file clerk  production controller  \\\n",
       "0                0  ...         0                   0                      0   \n",
       "1                0  ...         0                   0                      0   \n",
       "2                0  ...         0                   0                      0   \n",
       "3                0  ...         0                   0                      0   \n",
       "4                0  ...         0                   0                      0   \n",
       "\n",
       "   public affairs  sales man  sales merchandiser  server  truck driver  \\\n",
       "0               0          0                   0       0             0   \n",
       "1               0          0                   0       0             0   \n",
       "2               0          0                   0       0             0   \n",
       "3               0          0                   0       0             0   \n",
       "4               0          0                   0       0             0   \n",
       "\n",
       "   ultrasound tech  vet tech  \n",
       "0                0         0  \n",
       "1                0         0  \n",
       "2                0         0  \n",
       "3                0         0  \n",
       "4                0         0  \n",
       "\n",
       "[5 rows x 172 columns]"
      ]
     },
     "execution_count": 257,
     "metadata": {},
     "output_type": "execute_result"
    }
   ],
   "source": [
    "df.head()"
   ]
  },
  {
   "cell_type": "markdown",
   "metadata": {
    "nbgrader": {
     "grade": false,
     "locked": true,
     "solution": false
    }
   },
   "source": [
    "<a id = \"part2\"></a>\n",
    "## Trees and Forests:\n",
    "\n",
    "Given a target (categorical or continuous), a decision tree iteratively splits data. It splits data at the value in whichever feature that creates the greatest separation among the target variable.\n"
   ]
  },
  {
   "cell_type": "markdown",
   "metadata": {
    "nbgrader": {
     "grade": false,
     "locked": true,
     "solution": false
    }
   },
   "source": [
    "### Depth\n",
    "\n",
    "The above tree has a depth of 2.  \n",
    "The maximum depth to which a is allowed to grow can be specified with `max_depth` in `sklearn`. By default, `max_depth` it is set to `None` which means the tree will grow until all leaves (terminal nodes) are pure, or until other user-specified criteria are met. Importantly, `max_depth` can impact the amount of time it takes to build a tree (this becomes especially important when starting to work with forests.)  \n",
    "\n",
    "### Splitting\n",
    "\n",
    "The splits in the above trees were determined intuitively. In the `sklearn` package two splitting criterion are available for classifiers; \"gini\" and \"entropy\". In general, \"gini\" splitting favors larger partitions, where \"entropy\" favors splitting of smaller groups that are of a single class. \n"
   ]
  },
  {
   "cell_type": "markdown",
   "metadata": {
    "nbgrader": {
     "grade": false,
     "locked": true,
     "solution": false
    }
   },
   "source": [
    "### Gini and Entropy Calculations\n",
    "\n",
    "The gini-index for a node is given by: $$1- \\sum_{j=1}^n p^2_j$$  \n",
    "Where there are n classes and $p_j$ is the frequency of class j in that node.  \n",
    "Finally, the indexes for each of these nodes is weighted by the proportion of data at each node, then summed.  \n",
    "Building the intuition, the gini-indicies that are closer to 0 are more \"pure\"!"
   ]
  },
  {
   "cell_type": "markdown",
   "metadata": {
    "nbgrader": {
     "grade": false,
     "locked": true,
     "solution": false
    }
   },
   "source": [
    "### Forests\n",
    "\n",
    "\"Forests\" are collections of decision trees designed to protect against over-fitting.  \n",
    "A single decision tree (particularly one that is allowed to grow to any depth), may be prone to overfitting. Algorithmically, the tree is designed to continue to make splits until it has completely classified all of the available data, and/or exhausted every possible split. Thus, no complexity and no particular is too fine for the tree to split upon. A tree might be \"pruned\" by setting max_depth to protect against over fitting, but, a \"forest\" of trees might also be used instead.  \n",
    "\n",
    "### Building Tree / Forest Models  \n",
    "\n",
    "#### Baseline Accuracy:\n",
    "As our main objective for building this model is to prediction of whether or not a customer will pay back his/her loan, a vey important question to ask is:\n",
    "What percentage of observations would be correctly predicted if the majority class were predicted every time? What is the baseline accuracy?"
   ]
  },
  {
   "cell_type": "code",
   "execution_count": 258,
   "metadata": {},
   "outputs": [
    {
     "name": "stdout",
     "output_type": "stream",
     "text": [
      "Baseline Accuracy:  87.37373737373737\n"
     ]
    }
   ],
   "source": [
    "baseline_accuracy = count_non_default/(count_default+count_non_default) * 100\n",
    "print(\"Baseline Accuracy: \", baseline_accuracy)\n"
   ]
  },
  {
   "cell_type": "markdown",
   "metadata": {
    "nbgrader": {
     "grade": false,
     "locked": true,
     "solution": false
    }
   },
   "source": [
    "## Building our models with sklearn and comparing our results\n",
    "\n",
    "#### Import models and metrics; create train-test split"
   ]
  },
  {
   "cell_type": "code",
   "execution_count": 259,
   "metadata": {
    "nbgrader": {
     "grade": false,
     "locked": true,
     "solution": false
    }
   },
   "outputs": [],
   "source": [
    "from sklearn.tree import DecisionTreeClassifier\n",
    "from sklearn.ensemble import RandomForestClassifier, ExtraTreesClassifier, BaggingClassifier\n",
    "from sklearn.metrics import classification_report\n",
    "from sklearn.model_selection import train_test_split\n",
    "\n",
    "\n",
    "# Instantiate tree and forest models\n",
    "decisiontree = DecisionTreeClassifier()\n",
    "bagging = BaggingClassifier()\n",
    "randomforest = RandomForestClassifier()\n",
    "extratree = ExtraTreesClassifier()"
   ]
  },
  {
   "cell_type": "code",
   "execution_count": null,
   "metadata": {},
   "outputs": [],
   "source": []
  },
  {
   "cell_type": "code",
   "execution_count": 260,
   "metadata": {},
   "outputs": [
    {
     "name": "stdout",
     "output_type": "stream",
     "text": [
      "Counter({1: 169, 0: 25})\n",
      "Counter({1: 169, 0: 169})\n"
     ]
    }
   ],
   "source": [
    "import numpy as np\n",
    "from collections import Counter\n",
    "from imblearn.over_sampling import SMOTE\n",
    "\n",
    "# Create train-test splits (70/30 split)\n",
    "X = df.drop('Fully Paid', axis = 'columns')\n",
    "y = df['Fully Paid']\n",
    "\n",
    "# summarize class distribution\n",
    "counter = Counter(y)\n",
    "\n",
    "print(counter)\n",
    "# transform the dataset\n",
    "oversample = SMOTE()\n",
    "\n",
    "X, y = oversample.fit_resample(X, y)\n",
    "# summarize the new class distribution\n",
    "counter = Counter(y)\n",
    "print(counter)\n"
   ]
  },
  {
   "cell_type": "code",
   "execution_count": 261,
   "metadata": {},
   "outputs": [],
   "source": [
    "X_train, X_test, y_train, y_test = train_test_split(X, y, test_size = .3, random_state = 1234)"
   ]
  },
  {
   "cell_type": "markdown",
   "metadata": {
    "nbgrader": {
     "grade": false,
     "locked": true,
     "solution": false
    }
   },
   "source": [
    "## Model Selection\n",
    "\n",
    "#### When building any machine learning model, we do not just select one model and rely on its result for our use case but rather we create several ensemble models and cross-validate their outputs and evaluate model performance using various metrics to get the optimal result. \n",
    "\n",
    "#### Model training and evaluating performance of an emsemble of classifiers using default parameters:"
   ]
  },
  {
   "cell_type": "code",
   "execution_count": 262,
   "metadata": {
    "nbgrader": {
     "grade": false,
     "locked": true,
     "solution": false
    }
   },
   "outputs": [
    {
     "name": "stdout",
     "output_type": "stream",
     "text": [
      "Decision Trees: \n",
      "               precision    recall  f1-score   support\n",
      "\n",
      "           0       0.92      0.96      0.94        50\n",
      "           1       0.96      0.92      0.94        52\n",
      "\n",
      "    accuracy                           0.94       102\n",
      "   macro avg       0.94      0.94      0.94       102\n",
      "weighted avg       0.94      0.94      0.94       102\n",
      " \n",
      "\n",
      "------------------------------------------------------------\n",
      "Bagging: \n",
      "               precision    recall  f1-score   support\n",
      "\n",
      "           0       0.94      0.94      0.94        50\n",
      "           1       0.94      0.94      0.94        52\n",
      "\n",
      "    accuracy                           0.94       102\n",
      "   macro avg       0.94      0.94      0.94       102\n",
      "weighted avg       0.94      0.94      0.94       102\n",
      " \n",
      "\n",
      "------------------------------------------------------------\n",
      "Random Forest: \n",
      "               precision    recall  f1-score   support\n",
      "\n",
      "           0       0.96      0.92      0.94        50\n",
      "           1       0.93      0.96      0.94        52\n",
      "\n",
      "    accuracy                           0.94       102\n",
      "   macro avg       0.94      0.94      0.94       102\n",
      "weighted avg       0.94      0.94      0.94       102\n",
      " \n",
      "\n",
      "------------------------------------------------------------\n",
      "Extra Trees: \n",
      "               precision    recall  f1-score   support\n",
      "\n",
      "           0       0.91      0.98      0.94        50\n",
      "           1       0.98      0.90      0.94        52\n",
      "\n",
      "    accuracy                           0.94       102\n",
      "   macro avg       0.94      0.94      0.94       102\n",
      "weighted avg       0.94      0.94      0.94       102\n",
      " \n",
      "\n"
     ]
    }
   ],
   "source": [
    "decisiontree.fit(X_train, y_train)\n",
    "print(\"Decision Trees: \\n\", classification_report(y_test, decisiontree.predict(X_test)), \"\\n\")\n",
    "\n",
    "\n",
    "print(\"-\" * 60)\n",
    "\n",
    "bagging.fit(X_train, y_train)\n",
    "print(\"Bagging: \\n\", classification_report(y_test, bagging.predict(X_test)), \"\\n\")\n",
    "\n",
    "\n",
    "print(\"-\" * 60)\n",
    "\n",
    "randomforest.fit(X_train, y_train)\n",
    "print(\"Random Forest: \\n\", classification_report(y_test, randomforest.predict(X_test)), \"\\n\")\n",
    "\n",
    "\n",
    "print(\"-\" * 60)\n",
    "\n",
    "extratree.fit(X_train, y_train)\n",
    "print(\"Extra Trees: \\n\", classification_report(y_test, extratree.predict(X_test)), \"\\n\")\n",
    "\n"
   ]
  },
  {
   "cell_type": "markdown",
   "metadata": {
    "nbgrader": {
     "grade": false,
     "locked": true,
     "solution": false
    }
   },
   "source": [
    "#### Values of different predictions"
   ]
  },
  {
   "cell_type": "markdown",
   "metadata": {
    "collapsed": true
   },
   "source": [
    "Are all predictions in this data set equal in business value? In other words, is correctly predicting a \"default\" as valuable as predicting a \"non-default\"?\n",
    "No. They are of unequal business values. From a business perspective, being able to correctly predict the negative class (defaulters on loans) is more valuable, as it helps mitigate risks."
   ]
  },
  {
   "cell_type": "markdown",
   "metadata": {
    "nbgrader": {
     "grade": false,
     "locked": true,
     "solution": false
    }
   },
   "source": [
    "<a id = \"part3\"></a>\n",
    "\n",
    "## Hyper Parameter Tuning"
   ]
  },
  {
   "cell_type": "markdown",
   "metadata": {
    "nbgrader": {
     "grade": false,
     "locked": true,
     "solution": false
    }
   },
   "source": [
    "It appears both the Random Forest and the Extra Trees perform in a similarly effective manner. For this section, we will try to increase the performance of the Random Forest by tuning a couple hyper parameters, namely `criterion` and `estimators`\n",
    "\n",
    "Because we are more interested in forecasting defaults than non-defaults, we will optimize on the recall of defaults -- recall is the proportion of defaults predicted over total defaults.  \n"
   ]
  },
  {
   "cell_type": "code",
   "execution_count": 263,
   "metadata": {
    "nbgrader": {
     "grade": false,
     "locked": true,
     "solution": false
    }
   },
   "outputs": [
    {
     "name": "stdout",
     "output_type": "stream",
     "text": [
      "Wall time: 934 ms\n"
     ]
    }
   ],
   "source": [
    " %%time\n",
    " from sklearn.metrics import recall_score\n",
    " criterion = ['gini', 'entropy']\n",
    " n_estimators = [5,10,20, 50, 100]\n",
    " scores = dict()\n",
    " i = 0\n",
    " for c in criterion:\n",
    "     for e in n_estimators:\n",
    "         rf = RandomForestClassifier(n_estimators = e, criterion = c, random_state = 1738)\n",
    "         rf.fit(X_train, y_train)\n",
    "         scores[i] = {'recall':recall_score(y_test, rf.predict(X_test)), 'trees' :e, \"crit\":c}\n",
    "         i+=1"
   ]
  },
  {
   "cell_type": "code",
   "execution_count": 264,
   "metadata": {
    "nbgrader": {
     "grade": false,
     "locked": true,
     "solution": false
    }
   },
   "outputs": [
    {
     "data": {
      "text/html": [
       "<div>\n",
       "<style scoped>\n",
       "    .dataframe tbody tr th:only-of-type {\n",
       "        vertical-align: middle;\n",
       "    }\n",
       "\n",
       "    .dataframe tbody tr th {\n",
       "        vertical-align: top;\n",
       "    }\n",
       "\n",
       "    .dataframe thead th {\n",
       "        text-align: right;\n",
       "    }\n",
       "</style>\n",
       "<table border=\"1\" class=\"dataframe\">\n",
       "  <thead>\n",
       "    <tr style=\"text-align: right;\">\n",
       "      <th></th>\n",
       "      <th>recall</th>\n",
       "      <th>trees</th>\n",
       "      <th>crit</th>\n",
       "    </tr>\n",
       "  </thead>\n",
       "  <tbody>\n",
       "    <tr>\n",
       "      <th>0</th>\n",
       "      <td>0.961538</td>\n",
       "      <td>5</td>\n",
       "      <td>gini</td>\n",
       "    </tr>\n",
       "    <tr>\n",
       "      <th>1</th>\n",
       "      <td>0.942308</td>\n",
       "      <td>10</td>\n",
       "      <td>gini</td>\n",
       "    </tr>\n",
       "    <tr>\n",
       "      <th>2</th>\n",
       "      <td>1</td>\n",
       "      <td>20</td>\n",
       "      <td>gini</td>\n",
       "    </tr>\n",
       "    <tr>\n",
       "      <th>3</th>\n",
       "      <td>0.980769</td>\n",
       "      <td>50</td>\n",
       "      <td>gini</td>\n",
       "    </tr>\n",
       "    <tr>\n",
       "      <th>4</th>\n",
       "      <td>0.980769</td>\n",
       "      <td>100</td>\n",
       "      <td>gini</td>\n",
       "    </tr>\n",
       "    <tr>\n",
       "      <th>5</th>\n",
       "      <td>0.884615</td>\n",
       "      <td>5</td>\n",
       "      <td>entropy</td>\n",
       "    </tr>\n",
       "    <tr>\n",
       "      <th>6</th>\n",
       "      <td>0.923077</td>\n",
       "      <td>10</td>\n",
       "      <td>entropy</td>\n",
       "    </tr>\n",
       "    <tr>\n",
       "      <th>7</th>\n",
       "      <td>0.923077</td>\n",
       "      <td>20</td>\n",
       "      <td>entropy</td>\n",
       "    </tr>\n",
       "    <tr>\n",
       "      <th>8</th>\n",
       "      <td>0.961538</td>\n",
       "      <td>50</td>\n",
       "      <td>entropy</td>\n",
       "    </tr>\n",
       "    <tr>\n",
       "      <th>9</th>\n",
       "      <td>0.980769</td>\n",
       "      <td>100</td>\n",
       "      <td>entropy</td>\n",
       "    </tr>\n",
       "  </tbody>\n",
       "</table>\n",
       "</div>"
      ],
      "text/plain": [
       "     recall trees     crit\n",
       "0  0.961538     5     gini\n",
       "1  0.942308    10     gini\n",
       "2         1    20     gini\n",
       "3  0.980769    50     gini\n",
       "4  0.980769   100     gini\n",
       "5  0.884615     5  entropy\n",
       "6  0.923077    10  entropy\n",
       "7  0.923077    20  entropy\n",
       "8  0.961538    50  entropy\n",
       "9  0.980769   100  entropy"
      ]
     },
     "execution_count": 264,
     "metadata": {},
     "output_type": "execute_result"
    }
   ],
   "source": [
    "pd.DataFrame(scores).T"
   ]
  },
  {
   "cell_type": "markdown",
   "metadata": {},
   "source": [
    "## Conclusion"
   ]
  },
  {
   "cell_type": "markdown",
   "metadata": {
    "collapsed": true
   },
   "source": [
    "According to the output shown above, the model with the best recall score featured: \n",
    "How many trees? 50 trees.\n",
    "Which splitting method? Both Gini and Entropy yielded similar results. \n"
   ]
  },
  {
   "cell_type": "markdown",
   "metadata": {
    "nbgrader": {
     "grade": false,
     "locked": true,
     "solution": false
    }
   },
   "source": [
    "With a general sense that maybe a `RandomForestClassifier` will perform best using either `gini` or `entropy` splitting with somewhere around 50 trees, further hyper-parameter tuning below."
   ]
  },
  {
   "cell_type": "markdown",
   "metadata": {
    "collapsed": true
   },
   "source": [
    "On drilling down and focusing on 'gini' random forests roughly 50 trees it becomes clearer that\n",
    "increasing the number of trees is yeilding the amount the recall jumps around it is difficult to tell as there is not enough consistency in the results to say more trees are \"better\" or \"worse\".\n",
    "Again, more 'good quality' data is needed to better overall accuracy, reliability and quality of model prediction."
   ]
  },
  {
   "cell_type": "markdown",
   "metadata": {
    "nbgrader": {
     "grade": false,
     "locked": true,
     "solution": false
    }
   },
   "source": [
    "While it might be tempting to try to tune-and-tune-and-tune hyper-parameters to increase scores, in many cases (as in the example above) hyper-parameter tuning mostly results in ***not** creating a better model*, but a model that does a better job of predicting the test set.  "
   ]
  },
  {
   "cell_type": "markdown",
   "metadata": {},
   "source": [
    "Author: Anjani Kumar Shiwakoti\n",
    "Date Published: July 13, 2020"
   ]
  },
  {
   "cell_type": "markdown",
   "metadata": {},
   "source": [
    "## The End"
   ]
  },
  {
   "cell_type": "markdown",
   "metadata": {},
   "source": []
  }
 ],
 "metadata": {
  "kernelspec": {
   "display_name": "Python 3",
   "language": "python",
   "name": "python3"
  },
  "language_info": {
   "codemirror_mode": {
    "name": "ipython",
    "version": 3
   },
   "file_extension": ".py",
   "mimetype": "text/x-python",
   "name": "python",
   "nbconvert_exporter": "python",
   "pygments_lexer": "ipython3",
   "version": "3.7.6"
  }
 },
 "nbformat": 4,
 "nbformat_minor": 2
}
